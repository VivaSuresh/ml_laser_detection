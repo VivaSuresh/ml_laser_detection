{
 "cells": [
  {
   "cell_type": "code",
   "execution_count": 10,
   "id": "2c41230b-f27b-4799-91a3-0adcdd90bf51",
   "metadata": {},
   "outputs": [],
   "source": [
    "import torch \n",
    "import torchvision\n",
    "import torch.nn as nn\n",
    "import torch.nn.functional as F\n",
    "import torch.optim as optim\n",
    "from torch.utils.data import Dataset, DataLoader\n",
    "\n",
    "from pathlib import Path\n",
    "import csv\n",
    "import numpy as np\n",
    "import cv2\n",
    "from tqdm import tqdm\n",
    "\n",
    "from edge_detection import edgeDetection\n",
    "from interest_point_detection import display_interest_points_matrix\n",
    "from detect_laser import *\n",
    "from torchinfo import summary\n",
    "from torchmetrics.classification import BinaryAccuracy\n",
    "\n",
    "import matplotlib.pyplot as plt\n",
    "from multiprocessing import Pool, cpu_count"
   ]
  },
  {
   "cell_type": "code",
   "execution_count": 2,
   "id": "deab060d-1b6a-441e-a2bc-46928135cacb",
   "metadata": {},
   "outputs": [],
   "source": [
    "# Prepare data \n",
    "\n",
    "data_path = Path(\"./data\")\n",
    "csv_list = list(data_path.glob(\"*.csv\"))\n",
    "file_map = dict()\n",
    "test_map = dict()\n",
    "i = 0\n",
    "l = 0\n",
    "for csv_file in csv_list:   \n",
    "    with open(csv_file, newline='') as csvfile:\n",
    "\n",
    "        reader = csv.reader(csvfile, delimiter=',')\n",
    "\n",
    "        header = next(reader)\n",
    "\n",
    "        # First 2 of every file will be for testing\n",
    "        for k in range(2):\n",
    "            row = next(reader)\n",
    "            if len(row) > 0:\n",
    "                test_map[l] = dict()\n",
    "                test_map[l][\"name\"] = row[0]\n",
    "                \n",
    "                for j in range(1, 3):\n",
    "                    test_map[l][header[j]] = row[j]\n",
    "\n",
    "                l+=1\n",
    "        \n",
    "        for row in reader:\n",
    "        \n",
    "            if len(row) > 0:\n",
    "                file_map[i] = dict()\n",
    "                file_map[i][\"name\"] = row[0]\n",
    "                \n",
    "                for j in range(1, 3):\n",
    "                    file_map[i][header[j]] = row[j]\n",
    "\n",
    "                i+=1"
   ]
  },
  {
   "cell_type": "code",
   "execution_count": 10,
   "id": "3f4d7efa-c355-49fd-bd10-ee3f6bb82e44",
   "metadata": {},
   "outputs": [
    {
     "name": "stdout",
     "output_type": "stream",
     "text": [
      "326\n",
      "24\n"
     ]
    }
   ],
   "source": [
    "print(len(file_map))\n",
    "print(len(test_map))"
   ]
  },
  {
   "cell_type": "code",
   "execution_count": 6,
   "id": "4018dd86-0aa6-4ee8-8840-7e562aefe45c",
   "metadata": {},
   "outputs": [],
   "source": [
    "data_map = dict()\n",
    "test_data_map = dict()\n",
    "index = 0\n",
    "index_test = 0"
   ]
  },
  {
   "cell_type": "code",
   "execution_count": 7,
   "id": "1c4194b1-977f-49ee-be60-9b894e1af7d5",
   "metadata": {},
   "outputs": [
    {
     "name": "stderr",
     "output_type": "stream",
     "text": [
      "100%|██████████████████████████████████████████████████████████████████████████████████████████████████████████████████████████| 326/326 [00:00<00:00, 1559.09it/s]"
     ]
    },
    {
     "name": "stdout",
     "output_type": "stream",
     "text": [
      "225\n",
      "225\n",
      "225\n",
      "225\n",
      "225\n",
      "225\n",
      "225\n",
      "225\n",
      "225\n",
      "225\n",
      "225\n",
      "225\n",
      "225\n",
      "225\n",
      "225\n",
      "225\n",
      "225\n",
      "225\n",
      "225\n",
      "225\n",
      "225\n",
      "225\n",
      "225\n",
      "225\n",
      "225\n",
      "225\n",
      "225\n",
      "225\n",
      "225\n",
      "225\n",
      "225\n",
      "225\n",
      "225\n",
      "225\n",
      "225\n",
      "225\n",
      "225\n",
      "225\n",
      "225\n",
      "225\n",
      "225\n",
      "225\n",
      "225\n",
      "225\n",
      "225\n",
      "225\n",
      "225\n",
      "225\n",
      "225\n",
      "225\n",
      "225\n",
      "225\n",
      "225\n",
      "225\n",
      "225\n",
      "225\n",
      "225\n",
      "225\n",
      "225\n",
      "225\n",
      "225\n",
      "225\n",
      "225\n",
      "225\n",
      "225\n",
      "225\n",
      "225\n",
      "225\n",
      "225\n",
      "225\n",
      "225\n",
      "225\n",
      "225\n",
      "225\n",
      "225\n",
      "225\n",
      "225\n",
      "225\n",
      "225\n",
      "225\n",
      "225\n",
      "225\n",
      "225\n",
      "225\n",
      "225\n",
      "225\n",
      "225\n",
      "225\n",
      "225\n",
      "225\n",
      "225\n",
      "225\n",
      "225\n",
      "225\n",
      "225\n",
      "225\n",
      "225\n",
      "225\n",
      "225\n",
      "225\n",
      "225\n",
      "225\n",
      "225\n",
      "225\n",
      "225\n",
      "225\n",
      "225\n",
      "225\n",
      "225\n",
      "225\n",
      "225\n",
      "225\n",
      "225\n",
      "225\n",
      "225\n",
      "225\n",
      "225\n",
      "225\n",
      "225\n",
      "225\n",
      "225\n",
      "225\n",
      "225\n",
      "225\n",
      "225\n",
      "225\n",
      "225\n",
      "225\n",
      "225\n",
      "225\n",
      "225\n",
      "225\n",
      "225\n",
      "225\n",
      "225\n",
      "225\n",
      "225\n",
      "225\n",
      "225\n",
      "225\n",
      "225\n",
      "225\n",
      "225\n",
      "225\n",
      "225\n",
      "225\n",
      "225\n",
      "225\n",
      "225\n",
      "225\n",
      "225\n",
      "225\n",
      "225\n",
      "225\n",
      "225\n",
      "225\n",
      "225\n",
      "225\n",
      "225\n",
      "225\n",
      "225\n",
      "225\n",
      "225\n",
      "225\n",
      "225\n",
      "225\n",
      "225\n",
      "225\n",
      "225\n",
      "225\n",
      "225\n",
      "225\n",
      "225\n",
      "225\n",
      "225\n",
      "225\n",
      "225\n",
      "225\n",
      "225\n",
      "225\n",
      "225\n",
      "225\n",
      "225\n",
      "225\n",
      "225\n",
      "225\n",
      "225\n",
      "225\n",
      "225\n",
      "225\n",
      "225\n",
      "225\n",
      "225\n",
      "225\n",
      "225\n",
      "225\n",
      "225\n",
      "225\n",
      "225\n",
      "225\n",
      "225\n",
      "225\n",
      "225\n",
      "225\n",
      "225\n",
      "225\n",
      "225\n",
      "225\n",
      "225\n",
      "225\n",
      "225\n",
      "225\n",
      "225\n",
      "225\n",
      "225\n",
      "225\n",
      "225\n",
      "225\n",
      "225\n",
      "225\n",
      "225\n",
      "225\n",
      "225\n",
      "225\n",
      "225\n",
      "225\n",
      "225\n",
      "225\n",
      "225\n",
      "225\n",
      "225\n",
      "225\n",
      "225\n",
      "225\n",
      "225\n",
      "225\n",
      "225\n",
      "225\n",
      "225\n",
      "225\n",
      "225\n",
      "225\n",
      "225\n",
      "225\n",
      "225\n",
      "225\n",
      "225\n",
      "225\n",
      "225\n",
      "225\n",
      "225\n",
      "225\n",
      "225\n",
      "225\n",
      "225\n",
      "225\n",
      "225\n",
      "225\n",
      "225\n",
      "225\n",
      "225\n",
      "225\n",
      "225\n",
      "225\n",
      "225\n",
      "225\n",
      "225\n",
      "225\n",
      "225\n",
      "225\n",
      "225\n",
      "225\n",
      "225\n",
      "225\n",
      "225\n",
      "225\n",
      "225\n",
      "225\n",
      "225\n",
      "225\n",
      "225\n",
      "225\n",
      "225\n",
      "225\n",
      "225\n",
      "225\n",
      "225\n",
      "225\n",
      "225\n",
      "225\n",
      "225\n",
      "225\n",
      "225\n",
      "225\n",
      "225\n",
      "225\n",
      "225\n",
      "225\n",
      "225\n",
      "225\n",
      "225\n",
      "225\n",
      "225\n",
      "225\n",
      "225\n",
      "225\n",
      "225\n",
      "225\n",
      "225\n",
      "225\n",
      "225\n",
      "225\n",
      "225\n",
      "225\n",
      "225\n",
      "225\n",
      "225\n",
      "225\n",
      "225\n",
      "225\n",
      "225\n",
      "225\n",
      "225\n",
      "225\n",
      "225\n",
      "225\n"
     ]
    },
    {
     "name": "stderr",
     "output_type": "stream",
     "text": [
      "\n"
     ]
    }
   ],
   "source": [
    "# Getting images with laser inside them for training\n",
    "for i in tqdm(file_map):\n",
    "    #img = cv2.imread(file_map[i][\"name\"])\n",
    "\n",
    "    # if (i == 1):\n",
    "    #     break\n",
    "    val = 20\n",
    "    count=0\n",
    "\n",
    "    for k in range(5,val):\n",
    "        for j in range(5,val):\n",
    "            laser_np = (int(file_map[i][\"laser.x\"]), int(file_map[i][\"laser.y\"]))\n",
    "\n",
    "            #temp = img[laser_np[1]-val+k:laser_np[1]+k,laser_np[0]-val+j:laser_np[0]+j]\n",
    "            # exit(1)\n",
    "            count+=1\n",
    "\n",
    "            # Add to data_map\n",
    "            # 0 is no laser, 1 is yes laser\n",
    "            data_map[index] = dict()\n",
    "            data_map[index][\"file_name\"] = file_map[i][\"name\"]\n",
    "            data_map[index][\"image\"] = (laser_np[1]-val+k, laser_np[0]-val+j)\n",
    "            data_map[index][\"label\"] = 1\n",
    "            index += 1\n",
    "\n",
    "            # cv2.namedWindow(\"burger\")\n",
    "            # cv2.imshow(\"burger\", temp)\n",
    "            # cv2.waitKey(0)\n",
    "            # cv2.destroyAllWindows()\n",
    "    print(count)\n"
   ]
  },
  {
   "cell_type": "code",
   "execution_count": 4,
   "id": "9be966bb-e686-49c0-b853-abeea6270a88",
   "metadata": {},
   "outputs": [
    {
     "name": "stderr",
     "output_type": "stream",
     "text": [
      "100%|████████████████████████████████████████████████████████████████████████████████████████████████████████████████████████████| 326/326 [00:51<00:00,  6.33it/s]\n"
     ]
    }
   ],
   "source": [
    "# Getting images without any laser for training\n",
    "for i in tqdm(file_map):\n",
    "    if i < 45:\n",
    "        continue\n",
    "    img = cv2.imread(file_map[i][\"name\"])\n",
    "    val=20\n",
    "    laser_np = (int(file_map[i][\"laser.x\"]), int(file_map[i][\"laser.y\"]))\n",
    "    left = laser_np[0] - 20*2 + 5\n",
    "    right = laser_np[0] + 35\n",
    "    top = laser_np[1]-20*2+5\n",
    "    bottom = laser_np[1]+35\n",
    "\n",
    "    count = 0\n",
    "    \n",
    "    for k in range(50,3000-val-50,85):\n",
    "        for j in range(50,4000-val-50,85):\n",
    "\n",
    "            if j >= left and j < right and k >= top and k < bottom:\n",
    "                continue\n",
    "            cv2.rectangle(img, (j,k), (j+val, k+val), color=(0,0,255), thickness=10)\n",
    "\n",
    "            data_map[index] = dict()\n",
    "            data_map[index][\"file_name\"] = file_map[i][\"name\"]\n",
    "            data_map[index][\"image\"] = (k, j)\n",
    "            data_map[index][\"label\"] = 0\n",
    "            index += 1\n",
    "            count+=1\n",
    "            # temp = img[k:k+val, j:j+val]\n"
   ]
  },
  {
   "cell_type": "code",
   "execution_count": 6,
   "id": "dc68c214-4b9d-4e02-98ab-e6bec657fbc8",
   "metadata": {},
   "outputs": [
    {
     "name": "stderr",
     "output_type": "stream",
     "text": [
      "100%|█████████████████████████████████████████████████████████████████████████████████████| 24/24 [00:00<00:00, 3151.05it/s]"
     ]
    },
    {
     "name": "stdout",
     "output_type": "stream",
     "text": [
      "225\n"
     ]
    },
    {
     "name": "stderr",
     "output_type": "stream",
     "text": [
      "\n"
     ]
    }
   ],
   "source": [
    "# Getting images with laser inside them for training\n",
    "for i in tqdm(test_map):\n",
    "    # #img = cv2.imread(file_map[i][\"name\"])\n",
    "    # if i == 1:\n",
    "    #     break\n",
    "\n",
    "    val = 20\n",
    "    count=0\n",
    "\n",
    "    for k in range(5,val):\n",
    "        for j in range(5,val):\n",
    "            laser_np = (int(test_map[i][\"laser.x\"]), int(test_map[i][\"laser.y\"]))\n",
    "\n",
    "            #temp = img[laser_np[1]-val+k:laser_np[1]+k,laser_np[0]-val+j:laser_np[0]+j]\n",
    "            # exit(1)\n",
    "            count+=1\n",
    "\n",
    "            # Add to data_map\n",
    "            # 0 is no laser, 1 is yes laser\n",
    "            test_data_map[index_test] = dict()\n",
    "            test_data_map[index_test][\"file_name\"] = test_map[i][\"name\"]\n",
    "            test_data_map[index_test][\"image\"] = (laser_np[1]-val+k, laser_np[0]-val+j)\n",
    "            test_data_map[index_test][\"label\"] = 1\n",
    "            index_test += 1\n",
    "\n",
    "            # cv2.namedWindow(\"burger\")\n",
    "            # cv2.imshow(\"burger\", temp)\n",
    "            # cv2.waitKey(0)\n",
    "            # cv2.destroyAllWindows()\n",
    "print(count)"
   ]
  },
  {
   "cell_type": "code",
   "execution_count": 7,
   "id": "3b0b3b35-756d-47fd-880f-a6df8d0e27ff",
   "metadata": {},
   "outputs": [
    {
     "name": "stderr",
     "output_type": "stream",
     "text": [
      "100%|██████████████████████████████████████████████████████████████████████████████████████| 24/24 [00:00<00:00, 817.76it/s]\n"
     ]
    }
   ],
   "source": [
    "# Getting images without any laser for testing\n",
    "for i in tqdm(test_map):\n",
    "  #  img = cv2.imread(test_map[i][\"name\"])\n",
    "    # if i == 1:\n",
    "    #     break\n",
    "    \n",
    "    val=20\n",
    "    laser_np = (int(test_map[i][\"laser.x\"]), int(test_map[i][\"laser.y\"]))\n",
    "    left = laser_np[0] - 20*2 + 5\n",
    "    right = laser_np[0] + 35\n",
    "    top = laser_np[1]-20*2+5\n",
    "    bottom = laser_np[1]+35\n",
    "    \n",
    "    for k in range(50,3000-val-50,85):\n",
    "        for j in range(50,4000-val-50,85):\n",
    "\n",
    "            if j >= left and j < right and k >= top and k < bottom:\n",
    "                continue\n",
    "            # cv2.rectangle(img, (j,k), (j+val, k+val), color=(0,0,255), thickness=2)\n",
    "\n",
    "            test_data_map[index_test] = dict()\n",
    "            test_data_map[index_test][\"file_name\"] = test_map[i][\"name\"]\n",
    "            test_data_map[index_test][\"image\"] = (k, j)\n",
    "            test_data_map[index_test][\"label\"] = 0\n",
    "            index_test += 1\n",
    "            # temp = img[k:k+val, j:j+val]"
   ]
  },
  {
   "cell_type": "code",
   "execution_count": 8,
   "id": "2d2f8229-32ec-4aba-aabc-728807a87e84",
   "metadata": {},
   "outputs": [],
   "source": [
    "# data = np.empty((len(data_map), 1200))\n",
    "# test = np.empty((len(test_data_map), 1200))"
   ]
  },
  {
   "cell_type": "code",
   "execution_count": 9,
   "id": "09a9d0d8-4dd1-44e5-856b-6d9f1550ac68",
   "metadata": {},
   "outputs": [],
   "source": [
    "# for idx in tqdm(data_map):\n",
    "#     file_name = data_map[idx][\"file_name\"]\n",
    "#     k,j = data_map[idx][\"image\"]\n",
    "#     label = data_map[idx][\"label\"]\n",
    "    \n",
    "#     img = cv2.imread(file_name)\n",
    "#     img_clone = img.copy()\n",
    "#     cropped_img = img_clone[k:k+20, j:j+20]\n",
    "#     output_img = np.reshape(cropped_img, (3, 20, 20))\n",
    "\n",
    "#     data[idx,:] = output_img.flatten()"
   ]
  },
  {
   "cell_type": "code",
   "execution_count": 19,
   "id": "5d2c8edd-8172-4951-a30f-815ec59c6b07",
   "metadata": {},
   "outputs": [],
   "source": [
    "class LaserDetectionDataset(Dataset):\n",
    "    \"\"\"Laser Detection dataset.\"\"\"\n",
    "\n",
    "    def __init__(self, data_map, test):\n",
    "        \"\"\"\n",
    "        Arguments:\n",
    "            data_map: map to training data.\n",
    "            data: training data\n",
    "        \"\"\"\n",
    "        self.data_map = data_map\n",
    "        if test:\n",
    "            self.directory = Path(\"/home/vsuresh/fishsense-lite-python-pipeline/data/test_binary\")\n",
    "        else:\n",
    "            self.directory = Path(\"/home/vsuresh/fishsense-lite-python-pipeline/data/train_binary\")\n",
    "\n",
    "    def __len__(self):\n",
    "\n",
    "        return len(self.data_map)\n",
    "\n",
    "    def __getitem__(self, idx):\n",
    "   \n",
    "        file = self.directory / f\"{idx}.png\"\n",
    "        file_name = file.as_posix()\n",
    "        k,j = self.data_map[idx][\"image\"]\n",
    "        label = self.data_map[idx][\"label\"]\n",
    "\n",
    "        # print(\"Beginning to read image\")\n",
    "        cropped_img = cv2.imread(file_name)\n",
    "        # print(\"Finishing reading image\")\n",
    "        # img_clone = img.copy()\n",
    "        # cropped_img = img_clone[k:k+20, j:j+20]\n",
    "        output_img = np.reshape(cropped_img, (3, 20, 20))\n",
    "        # cv2.namedWindow(\"burger\")\n",
    "        # cv2.imshow(\"burger\", output_img)\n",
    "        # cv2.waitKey(0)\n",
    "        # cv2.destroyAllWindows()\n",
    "        # output_img = np.reshape(self.data[idx,:], (3, 20, 20))\n",
    "        # print(file_name)\n",
    "        return output_img.astype(np.float32), np.array([label]).astype(np.float32)"
   ]
  },
  {
   "cell_type": "code",
   "execution_count": 11,
   "id": "cb080152-ffbd-4e35-96a6-3be270f313da",
   "metadata": {},
   "outputs": [],
   "source": [
    "class Net(nn.Module):\n",
    "    def __init__(self):\n",
    "        super(Net, self).__init__()\n",
    "        self.conv1 = nn.Conv2d(3, 32, kernel_size=(3,3), stride=1, padding=1)\n",
    "        self.act1 = nn.ReLU()\n",
    "        self.drop1 = nn.Dropout(0.3)\n",
    "        self.pool1 = nn.AvgPool2d(kernel_size=(2, 2))\n",
    "        \n",
    "        self.flatten = nn.Flatten()\n",
    "        self.linear1 = nn.Linear(3200, 10)\n",
    "        self.act2 = nn.ReLU()\n",
    "\n",
    "        self.linear2 = nn.Linear(10, 1)\n",
    "        \n",
    "    def forward(self, x):\n",
    "        x = self.act1(self.conv1(x))\n",
    "        x = self.pool1(x)\n",
    "        x = self.drop1(x)\n",
    "        \n",
    "        x = self.flatten(x)\n",
    "        x = self.act2(self.linear1(x))\n",
    "\n",
    "        x = self.linear2(x)\n",
    "        \n",
    "        return x"
   ]
  },
  {
   "cell_type": "code",
   "execution_count": 12,
   "id": "29b2d126-eea0-4457-b30a-0f64ab292082",
   "metadata": {},
   "outputs": [
    {
     "data": {
      "text/plain": [
       "==========================================================================================\n",
       "Layer (type:depth-idx)                   Output Shape              Param #\n",
       "==========================================================================================\n",
       "Net                                      [1, 1]                    --\n",
       "├─Conv2d: 1-1                            [1, 32, 20, 20]           896\n",
       "├─ReLU: 1-2                              [1, 32, 20, 20]           --\n",
       "├─AvgPool2d: 1-3                         [1, 32, 10, 10]           --\n",
       "├─Dropout: 1-4                           [1, 32, 10, 10]           --\n",
       "├─Flatten: 1-5                           [1, 3200]                 --\n",
       "├─Linear: 1-6                            [1, 10]                   32,010\n",
       "├─ReLU: 1-7                              [1, 10]                   --\n",
       "├─Linear: 1-8                            [1, 1]                    11\n",
       "==========================================================================================\n",
       "Total params: 32,917\n",
       "Trainable params: 32,917\n",
       "Non-trainable params: 0\n",
       "Total mult-adds (M): 0.39\n",
       "==========================================================================================\n",
       "Input size (MB): 0.00\n",
       "Forward/backward pass size (MB): 0.10\n",
       "Params size (MB): 0.13\n",
       "Estimated Total Size (MB): 0.24\n",
       "=========================================================================================="
      ]
     },
     "execution_count": 12,
     "metadata": {},
     "output_type": "execute_result"
    }
   ],
   "source": [
    "model = Net()\n",
    "batch_size = 1\n",
    "summary(model, input_size=(1, 3, 20, 20), device=\"cuda\")"
   ]
  },
  {
   "cell_type": "code",
   "execution_count": 38,
   "id": "73458ad8-3da9-408e-8554-e5c6092f9b70",
   "metadata": {},
   "outputs": [
    {
     "data": {
      "text/plain": [
       "<All keys matched successfully>"
      ]
     },
     "execution_count": 38,
     "metadata": {},
     "output_type": "execute_result"
    }
   ],
   "source": [
    "loss_fn = nn.BCEWithLogitsLoss()\n",
    "optimizer = optim.Adam(model.parameters(), lr=0.001)\n",
    "\n",
    "laser_dataset = LaserDetectionDataset(data_map = data_map, test=False)\n",
    "laser_dataloader = DataLoader(laser_dataset, batch_size=2000, shuffle=True, num_workers=12)\n",
    "\n",
    "test_dataset = LaserDetectionDataset(data_map = test_data_map, test=True)\n",
    "test_dataloader = DataLoader(test_dataset, batch_size=2000, shuffle=True, num_workers=12)\n",
    "\n",
    "metric = BinaryAccuracy().to('cuda')\n",
    "test_metric = BinaryAccuracy().to('cuda')\n",
    "\n",
    "load_path = Path(\"model_binary199.pth\")\n",
    "model.load_state_dict(torch.load(load_path.as_posix()))"
   ]
  },
  {
   "cell_type": "code",
   "execution_count": 40,
   "id": "bf71985f-21c6-43af-97bf-3948f6de6a29",
   "metadata": {},
   "outputs": [
    {
     "name": "stderr",
     "output_type": "stream",
     "text": [
      "100%|█████████████████████████████████████████████████████████████████████████████████████| 292/292 [00:05<00:00, 48.84it/s]\n",
      "100%|███████████████████████████████████████████████████████████████████████████████████████| 22/22 [00:00<00:00, 22.67it/s]\n"
     ]
    },
    {
     "name": "stdout",
     "output_type": "stream",
     "text": [
      "Epoch 300: training accuracy: 0.993766725063324\n",
      "Epoch 300: test accuracy: 0.9868381023406982\n"
     ]
    },
    {
     "name": "stderr",
     "output_type": "stream",
     "text": [
      "100%|█████████████████████████████████████████████████████████████████████████████████████| 292/292 [00:05<00:00, 50.33it/s]\n",
      "100%|███████████████████████████████████████████████████████████████████████████████████████| 22/22 [00:00<00:00, 22.87it/s]\n"
     ]
    },
    {
     "name": "stdout",
     "output_type": "stream",
     "text": [
      "Epoch 301: training accuracy: 0.9937935471534729\n",
      "Epoch 301: test accuracy: 0.9868881106376648\n"
     ]
    },
    {
     "name": "stderr",
     "output_type": "stream",
     "text": [
      "100%|█████████████████████████████████████████████████████████████████████████████████████| 292/292 [00:05<00:00, 50.01it/s]\n",
      "100%|███████████████████████████████████████████████████████████████████████████████████████| 22/22 [00:00<00:00, 23.02it/s]\n"
     ]
    },
    {
     "name": "stdout",
     "output_type": "stream",
     "text": [
      "Epoch 302: training accuracy: 0.993820071220398\n",
      "Epoch 302: test accuracy: 0.986922025680542\n"
     ]
    },
    {
     "name": "stderr",
     "output_type": "stream",
     "text": [
      "100%|█████████████████████████████████████████████████████████████████████████████████████| 292/292 [00:05<00:00, 50.09it/s]\n",
      "100%|███████████████████████████████████████████████████████████████████████████████████████| 22/22 [00:00<00:00, 22.17it/s]\n"
     ]
    },
    {
     "name": "stdout",
     "output_type": "stream",
     "text": [
      "Epoch 303: training accuracy: 0.9938499331474304\n",
      "Epoch 303: test accuracy: 0.9869986772537231\n"
     ]
    },
    {
     "name": "stderr",
     "output_type": "stream",
     "text": [
      "100%|█████████████████████████████████████████████████████████████████████████████████████| 292/292 [00:05<00:00, 50.13it/s]\n",
      "100%|███████████████████████████████████████████████████████████████████████████████████████| 22/22 [00:00<00:00, 22.07it/s]\n"
     ]
    },
    {
     "name": "stdout",
     "output_type": "stream",
     "text": [
      "Epoch 304: training accuracy: 0.9938764572143555\n",
      "Epoch 304: test accuracy: 0.9870603680610657\n"
     ]
    },
    {
     "name": "stderr",
     "output_type": "stream",
     "text": [
      "100%|█████████████████████████████████████████████████████████████████████████████████████| 292/292 [00:05<00:00, 50.16it/s]\n",
      "100%|███████████████████████████████████████████████████████████████████████████████████████| 22/22 [00:00<00:00, 22.53it/s]\n"
     ]
    },
    {
     "name": "stdout",
     "output_type": "stream",
     "text": [
      "Epoch 305: training accuracy: 0.9939019680023193\n",
      "Epoch 305: test accuracy: 0.9871314764022827\n"
     ]
    },
    {
     "name": "stderr",
     "output_type": "stream",
     "text": [
      "100%|█████████████████████████████████████████████████████████████████████████████████████| 292/292 [00:05<00:00, 50.06it/s]\n",
      "100%|███████████████████████████████████████████████████████████████████████████████████████| 22/22 [00:00<00:00, 22.27it/s]\n"
     ]
    },
    {
     "name": "stdout",
     "output_type": "stream",
     "text": [
      "Epoch 306: training accuracy: 0.9939273595809937\n",
      "Epoch 306: test accuracy: 0.9871748685836792\n"
     ]
    },
    {
     "name": "stderr",
     "output_type": "stream",
     "text": [
      "100%|█████████████████████████████████████████████████████████████████████████████████████| 292/292 [00:05<00:00, 50.11it/s]\n",
      "100%|███████████████████████████████████████████████████████████████████████████████████████| 22/22 [00:00<00:00, 22.81it/s]\n"
     ]
    },
    {
     "name": "stdout",
     "output_type": "stream",
     "text": [
      "Epoch 307: training accuracy: 0.9939519762992859\n",
      "Epoch 307: test accuracy: 0.9872036576271057\n"
     ]
    },
    {
     "name": "stderr",
     "output_type": "stream",
     "text": [
      "100%|█████████████████████████████████████████████████████████████████████████████████████| 292/292 [00:05<00:00, 50.42it/s]\n",
      "100%|███████████████████████████████████████████████████████████████████████████████████████| 22/22 [00:01<00:00, 21.90it/s]\n"
     ]
    },
    {
     "name": "stdout",
     "output_type": "stream",
     "text": [
      "Epoch 308: training accuracy: 0.9939757585525513\n",
      "Epoch 308: test accuracy: 0.9872507452964783\n"
     ]
    },
    {
     "name": "stderr",
     "output_type": "stream",
     "text": [
      "100%|█████████████████████████████████████████████████████████████████████████████████████| 292/292 [00:05<00:00, 49.76it/s]\n",
      "100%|███████████████████████████████████████████████████████████████████████████████████████| 22/22 [00:00<00:00, 22.55it/s]\n"
     ]
    },
    {
     "name": "stdout",
     "output_type": "stream",
     "text": [
      "Epoch 309: training accuracy: 0.9939991235733032\n",
      "Epoch 309: test accuracy: 0.987274706363678\n"
     ]
    },
    {
     "name": "stderr",
     "output_type": "stream",
     "text": [
      "100%|█████████████████████████████████████████████████████████████████████████████████████| 292/292 [00:05<00:00, 50.21it/s]\n",
      "100%|███████████████████████████████████████████████████████████████████████████████████████| 22/22 [00:00<00:00, 22.30it/s]\n"
     ]
    },
    {
     "name": "stdout",
     "output_type": "stream",
     "text": [
      "Epoch 310: training accuracy: 0.9940248727798462\n",
      "Epoch 310: test accuracy: 0.9872885942459106\n"
     ]
    },
    {
     "name": "stderr",
     "output_type": "stream",
     "text": [
      "100%|█████████████████████████████████████████████████████████████████████████████████████| 292/292 [00:05<00:00, 50.64it/s]\n",
      "100%|███████████████████████████████████████████████████████████████████████████████████████| 22/22 [00:00<00:00, 22.36it/s]\n"
     ]
    },
    {
     "name": "stdout",
     "output_type": "stream",
     "text": [
      "Epoch 311: training accuracy: 0.9940425753593445\n",
      "Epoch 311: test accuracy: 0.987277090549469\n"
     ]
    },
    {
     "name": "stderr",
     "output_type": "stream",
     "text": [
      "100%|█████████████████████████████████████████████████████████████████████████████████████| 292/292 [00:05<00:00, 50.33it/s]\n",
      "100%|███████████████████████████████████████████████████████████████████████████████████████| 22/22 [00:00<00:00, 22.67it/s]\n"
     ]
    },
    {
     "name": "stdout",
     "output_type": "stream",
     "text": [
      "Epoch 312: training accuracy: 0.9940611720085144\n",
      "Epoch 312: test accuracy: 0.987339973449707\n"
     ]
    },
    {
     "name": "stderr",
     "output_type": "stream",
     "text": [
      "100%|█████████████████████████████████████████████████████████████████████████████████████| 292/292 [00:05<00:00, 50.45it/s]\n",
      "100%|███████████████████████████████████████████████████████████████████████████████████████| 22/22 [00:00<00:00, 22.60it/s]\n"
     ]
    },
    {
     "name": "stdout",
     "output_type": "stream",
     "text": [
      "Epoch 313: training accuracy: 0.994080662727356\n",
      "Epoch 313: test accuracy: 0.9873507022857666\n"
     ]
    },
    {
     "name": "stderr",
     "output_type": "stream",
     "text": [
      "100%|█████████████████████████████████████████████████████████████████████████████████████| 292/292 [00:05<00:00, 50.29it/s]\n",
      "100%|███████████████████████████████████████████████████████████████████████████████████████| 22/22 [00:00<00:00, 22.18it/s]\n"
     ]
    },
    {
     "name": "stdout",
     "output_type": "stream",
     "text": [
      "Epoch 314: training accuracy: 0.994102954864502\n",
      "Epoch 314: test accuracy: 0.9873978495597839\n"
     ]
    },
    {
     "name": "stderr",
     "output_type": "stream",
     "text": [
      "100%|█████████████████████████████████████████████████████████████████████████████████████| 292/292 [00:05<00:00, 50.24it/s]\n",
      "100%|███████████████████████████████████████████████████████████████████████████████████████| 22/22 [00:00<00:00, 22.59it/s]\n"
     ]
    },
    {
     "name": "stdout",
     "output_type": "stream",
     "text": [
      "Epoch 315: training accuracy: 0.9941240549087524\n",
      "Epoch 315: test accuracy: 0.9874324202537537\n"
     ]
    },
    {
     "name": "stderr",
     "output_type": "stream",
     "text": [
      "100%|█████████████████████████████████████████████████████████████████████████████████████| 292/292 [00:05<00:00, 50.12it/s]\n",
      "100%|███████████████████████████████████████████████████████████████████████████████████████| 22/22 [00:00<00:00, 22.55it/s]\n"
     ]
    },
    {
     "name": "stdout",
     "output_type": "stream",
     "text": [
      "Epoch 316: training accuracy: 0.9941461682319641\n",
      "Epoch 316: test accuracy: 0.9874740839004517\n"
     ]
    },
    {
     "name": "stderr",
     "output_type": "stream",
     "text": [
      "100%|█████████████████████████████████████████████████████████████████████████████████████| 292/292 [00:05<00:00, 50.35it/s]\n",
      "100%|███████████████████████████████████████████████████████████████████████████████████████| 22/22 [00:00<00:00, 22.60it/s]\n"
     ]
    },
    {
     "name": "stdout",
     "output_type": "stream",
     "text": [
      "Epoch 317: training accuracy: 0.994168221950531\n",
      "Epoch 317: test accuracy: 0.9874880313873291\n"
     ]
    },
    {
     "name": "stderr",
     "output_type": "stream",
     "text": [
      "100%|█████████████████████████████████████████████████████████████████████████████████████| 292/292 [00:05<00:00, 50.06it/s]\n",
      "100%|███████████████████████████████████████████████████████████████████████████████████████| 22/22 [00:00<00:00, 22.71it/s]\n"
     ]
    },
    {
     "name": "stdout",
     "output_type": "stream",
     "text": [
      "Epoch 318: training accuracy: 0.9941883683204651\n",
      "Epoch 318: test accuracy: 0.9875099658966064\n"
     ]
    },
    {
     "name": "stderr",
     "output_type": "stream",
     "text": [
      "100%|█████████████████████████████████████████████████████████████████████████████████████| 292/292 [00:05<00:00, 49.27it/s]\n",
      "100%|███████████████████████████████████████████████████████████████████████████████████████| 22/22 [00:01<00:00, 21.84it/s]\n"
     ]
    },
    {
     "name": "stdout",
     "output_type": "stream",
     "text": [
      "Epoch 319: training accuracy: 0.9942077398300171\n",
      "Epoch 319: test accuracy: 0.9875558018684387\n"
     ]
    },
    {
     "name": "stderr",
     "output_type": "stream",
     "text": [
      "100%|█████████████████████████████████████████████████████████████████████████████████████| 292/292 [00:05<00:00, 50.27it/s]\n",
      "100%|███████████████████████████████████████████████████████████████████████████████████████| 22/22 [00:00<00:00, 22.51it/s]\n"
     ]
    },
    {
     "name": "stdout",
     "output_type": "stream",
     "text": [
      "Epoch 320: training accuracy: 0.9942278265953064\n",
      "Epoch 320: test accuracy: 0.9875978231430054\n"
     ]
    },
    {
     "name": "stderr",
     "output_type": "stream",
     "text": [
      "100%|█████████████████████████████████████████████████████████████████████████████████████| 292/292 [00:05<00:00, 50.42it/s]\n",
      "100%|███████████████████████████████████████████████████████████████████████████████████████| 22/22 [00:00<00:00, 22.52it/s]\n"
     ]
    },
    {
     "name": "stdout",
     "output_type": "stream",
     "text": [
      "Epoch 321: training accuracy: 0.9942494034767151\n",
      "Epoch 321: test accuracy: 0.987609326839447\n"
     ]
    },
    {
     "name": "stderr",
     "output_type": "stream",
     "text": [
      "100%|█████████████████████████████████████████████████████████████████████████████████████| 292/292 [00:05<00:00, 50.46it/s]\n",
      "100%|███████████████████████████████████████████████████████████████████████████████████████| 22/22 [00:00<00:00, 22.58it/s]\n"
     ]
    },
    {
     "name": "stdout",
     "output_type": "stream",
     "text": [
      "Epoch 322: training accuracy: 0.9942697286605835\n",
      "Epoch 322: test accuracy: 0.9876357913017273\n"
     ]
    },
    {
     "name": "stderr",
     "output_type": "stream",
     "text": [
      "100%|█████████████████████████████████████████████████████████████████████████████████████| 292/292 [00:05<00:00, 50.14it/s]\n",
      "100%|███████████████████████████████████████████████████████████████████████████████████████| 22/22 [00:01<00:00, 21.85it/s]\n"
     ]
    },
    {
     "name": "stdout",
     "output_type": "stream",
     "text": [
      "Epoch 323: training accuracy: 0.9942901730537415\n",
      "Epoch 323: test accuracy: 0.9876541495323181\n"
     ]
    },
    {
     "name": "stderr",
     "output_type": "stream",
     "text": [
      "100%|█████████████████████████████████████████████████████████████████████████████████████| 292/292 [00:05<00:00, 49.93it/s]\n",
      "100%|███████████████████████████████████████████████████████████████████████████████████████| 22/22 [00:00<00:00, 22.90it/s]\n"
     ]
    },
    {
     "name": "stdout",
     "output_type": "stream",
     "text": [
      "Epoch 324: training accuracy: 0.9943099021911621\n",
      "Epoch 324: test accuracy: 0.987697422504425\n"
     ]
    },
    {
     "name": "stderr",
     "output_type": "stream",
     "text": [
      "100%|█████████████████████████████████████████████████████████████████████████████████████| 292/292 [00:05<00:00, 50.26it/s]\n",
      "100%|███████████████████████████████████████████████████████████████████████████████████████| 22/22 [00:00<00:00, 22.52it/s]\n"
     ]
    },
    {
     "name": "stdout",
     "output_type": "stream",
     "text": [
      "Epoch 325: training accuracy: 0.9943299293518066\n",
      "Epoch 325: test accuracy: 0.9877181053161621\n"
     ]
    },
    {
     "name": "stderr",
     "output_type": "stream",
     "text": [
      "100%|█████████████████████████████████████████████████████████████████████████████████████| 292/292 [00:05<00:00, 50.06it/s]\n",
      "100%|███████████████████████████████████████████████████████████████████████████████████████| 22/22 [00:00<00:00, 23.13it/s]\n"
     ]
    },
    {
     "name": "stdout",
     "output_type": "stream",
     "text": [
      "Epoch 326: training accuracy: 0.994350016117096\n",
      "Epoch 326: test accuracy: 0.9877594113349915\n"
     ]
    },
    {
     "name": "stderr",
     "output_type": "stream",
     "text": [
      "100%|█████████████████████████████████████████████████████████████████████████████████████| 292/292 [00:05<00:00, 50.42it/s]\n",
      "100%|███████████████████████████████████████████████████████████████████████████████████████| 22/22 [00:00<00:00, 22.35it/s]\n"
     ]
    },
    {
     "name": "stdout",
     "output_type": "stream",
     "text": [
      "Epoch 327: training accuracy: 0.9943689703941345\n",
      "Epoch 327: test accuracy: 0.9877765774726868\n"
     ]
    },
    {
     "name": "stderr",
     "output_type": "stream",
     "text": [
      "100%|█████████████████████████████████████████████████████████████████████████████████████| 292/292 [00:05<00:00, 50.25it/s]\n",
      "100%|███████████████████████████████████████████████████████████████████████████████████████| 22/22 [00:00<00:00, 22.35it/s]\n"
     ]
    },
    {
     "name": "stdout",
     "output_type": "stream",
     "text": [
      "Epoch 328: training accuracy: 0.9943875074386597\n",
      "Epoch 328: test accuracy: 0.9877906441688538\n"
     ]
    },
    {
     "name": "stderr",
     "output_type": "stream",
     "text": [
      "100%|█████████████████████████████████████████████████████████████████████████████████████| 292/292 [00:05<00:00, 49.75it/s]\n",
      "100%|███████████████████████████████████████████████████████████████████████████████████████| 22/22 [00:00<00:00, 22.28it/s]\n"
     ]
    },
    {
     "name": "stdout",
     "output_type": "stream",
     "text": [
      "Epoch 329: training accuracy: 0.9944014549255371\n",
      "Epoch 329: test accuracy: 0.9878232479095459\n"
     ]
    },
    {
     "name": "stderr",
     "output_type": "stream",
     "text": [
      "100%|█████████████████████████████████████████████████████████████████████████████████████| 292/292 [00:05<00:00, 50.58it/s]\n",
      "100%|███████████████████████████████████████████████████████████████████████████████████████| 22/22 [00:00<00:00, 23.32it/s]\n"
     ]
    },
    {
     "name": "stdout",
     "output_type": "stream",
     "text": [
      "Epoch 330: training accuracy: 0.9944194555282593\n",
      "Epoch 330: test accuracy: 0.9878503680229187\n"
     ]
    },
    {
     "name": "stderr",
     "output_type": "stream",
     "text": [
      "100%|█████████████████████████████████████████████████████████████████████████████████████| 292/292 [00:05<00:00, 50.13it/s]\n",
      "100%|███████████████████████████████████████████████████████████████████████████████████████| 22/22 [00:00<00:00, 22.38it/s]\n"
     ]
    },
    {
     "name": "stdout",
     "output_type": "stream",
     "text": [
      "Epoch 331: training accuracy: 0.9944375157356262\n",
      "Epoch 331: test accuracy: 0.9878810048103333\n"
     ]
    },
    {
     "name": "stderr",
     "output_type": "stream",
     "text": [
      "100%|█████████████████████████████████████████████████████████████████████████████████████| 292/292 [00:05<00:00, 50.48it/s]\n",
      "100%|███████████████████████████████████████████████████████████████████████████████████████| 22/22 [00:00<00:00, 22.39it/s]\n"
     ]
    },
    {
     "name": "stdout",
     "output_type": "stream",
     "text": [
      "Epoch 332: training accuracy: 0.9944549202919006\n",
      "Epoch 332: test accuracy: 0.9879024028778076\n"
     ]
    },
    {
     "name": "stderr",
     "output_type": "stream",
     "text": [
      "100%|█████████████████████████████████████████████████████████████████████████████████████| 292/292 [00:05<00:00, 50.19it/s]\n",
      "100%|███████████████████████████████████████████████████████████████████████████████████████| 22/22 [00:00<00:00, 22.04it/s]\n"
     ]
    },
    {
     "name": "stdout",
     "output_type": "stream",
     "text": [
      "Epoch 333: training accuracy: 0.9944733381271362\n",
      "Epoch 333: test accuracy: 0.9879021048545837\n"
     ]
    },
    {
     "name": "stderr",
     "output_type": "stream",
     "text": [
      "100%|█████████████████████████████████████████████████████████████████████████████████████| 292/292 [00:05<00:00, 49.63it/s]\n",
      "100%|███████████████████████████████████████████████████████████████████████████████████████| 22/22 [00:00<00:00, 22.40it/s]\n"
     ]
    },
    {
     "name": "stdout",
     "output_type": "stream",
     "text": [
      "Epoch 334: training accuracy: 0.9944926500320435\n",
      "Epoch 334: test accuracy: 0.9879388809204102\n"
     ]
    },
    {
     "name": "stderr",
     "output_type": "stream",
     "text": [
      "100%|█████████████████████████████████████████████████████████████████████████████████████| 292/292 [00:05<00:00, 50.25it/s]\n",
      "100%|███████████████████████████████████████████████████████████████████████████████████████| 22/22 [00:00<00:00, 22.51it/s]\n"
     ]
    },
    {
     "name": "stdout",
     "output_type": "stream",
     "text": [
      "Epoch 335: training accuracy: 0.9945098161697388\n",
      "Epoch 335: test accuracy: 0.9879510402679443\n"
     ]
    },
    {
     "name": "stderr",
     "output_type": "stream",
     "text": [
      "100%|█████████████████████████████████████████████████████████████████████████████████████| 292/292 [00:05<00:00, 50.40it/s]\n",
      "100%|███████████████████████████████████████████████████████████████████████████████████████| 22/22 [00:00<00:00, 22.75it/s]\n"
     ]
    },
    {
     "name": "stdout",
     "output_type": "stream",
     "text": [
      "Epoch 336: training accuracy: 0.9945286512374878\n",
      "Epoch 336: test accuracy: 0.9879792928695679\n"
     ]
    },
    {
     "name": "stderr",
     "output_type": "stream",
     "text": [
      "100%|█████████████████████████████████████████████████████████████████████████████████████| 292/292 [00:05<00:00, 49.95it/s]\n",
      "100%|███████████████████████████████████████████████████████████████████████████████████████| 22/22 [00:01<00:00, 21.99it/s]\n"
     ]
    },
    {
     "name": "stdout",
     "output_type": "stream",
     "text": [
      "Epoch 337: training accuracy: 0.9945476651191711\n",
      "Epoch 337: test accuracy: 0.9879789352416992\n"
     ]
    },
    {
     "name": "stderr",
     "output_type": "stream",
     "text": [
      "100%|█████████████████████████████████████████████████████████████████████████████████████| 292/292 [00:05<00:00, 50.15it/s]\n",
      "100%|███████████████████████████████████████████████████████████████████████████████████████| 22/22 [00:00<00:00, 22.51it/s]\n"
     ]
    },
    {
     "name": "stdout",
     "output_type": "stream",
     "text": [
      "Epoch 338: training accuracy: 0.9945622682571411\n",
      "Epoch 338: test accuracy: 0.9880196452140808\n"
     ]
    },
    {
     "name": "stderr",
     "output_type": "stream",
     "text": [
      "100%|█████████████████████████████████████████████████████████████████████████████████████| 292/292 [00:05<00:00, 49.37it/s]\n",
      "100%|███████████████████████████████████████████████████████████████████████████████████████| 22/22 [00:00<00:00, 22.63it/s]\n"
     ]
    },
    {
     "name": "stdout",
     "output_type": "stream",
     "text": [
      "Epoch 339: training accuracy: 0.9945808053016663\n",
      "Epoch 339: test accuracy: 0.9880567789077759\n"
     ]
    },
    {
     "name": "stderr",
     "output_type": "stream",
     "text": [
      "100%|█████████████████████████████████████████████████████████████████████████████████████| 292/292 [00:05<00:00, 50.16it/s]\n",
      "100%|███████████████████████████████████████████████████████████████████████████████████████| 22/22 [00:01<00:00, 21.79it/s]\n"
     ]
    },
    {
     "name": "stdout",
     "output_type": "stream",
     "text": [
      "Epoch 340: training accuracy: 0.9945982694625854\n",
      "Epoch 340: test accuracy: 0.9880808591842651\n"
     ]
    },
    {
     "name": "stderr",
     "output_type": "stream",
     "text": [
      "100%|█████████████████████████████████████████████████████████████████████████████████████| 292/292 [00:05<00:00, 50.41it/s]\n",
      "100%|███████████████████████████████████████████████████████████████████████████████████████| 22/22 [00:00<00:00, 22.81it/s]\n"
     ]
    },
    {
     "name": "stdout",
     "output_type": "stream",
     "text": [
      "Epoch 341: training accuracy: 0.9946128129959106\n",
      "Epoch 341: test accuracy: 0.9880865216255188\n"
     ]
    },
    {
     "name": "stderr",
     "output_type": "stream",
     "text": [
      "100%|█████████████████████████████████████████████████████████████████████████████████████| 292/292 [00:05<00:00, 50.51it/s]\n",
      "100%|███████████████████████████████████████████████████████████████████████████████████████| 22/22 [00:00<00:00, 22.97it/s]\n"
     ]
    },
    {
     "name": "stdout",
     "output_type": "stream",
     "text": [
      "Epoch 342: training accuracy: 0.994631290435791\n",
      "Epoch 342: test accuracy: 0.9880810379981995\n"
     ]
    },
    {
     "name": "stderr",
     "output_type": "stream",
     "text": [
      "100%|█████████████████████████████████████████████████████████████████████████████████████| 292/292 [00:05<00:00, 50.09it/s]\n",
      "100%|███████████████████████████████████████████████████████████████████████████████████████| 22/22 [00:00<00:00, 22.48it/s]\n"
     ]
    },
    {
     "name": "stdout",
     "output_type": "stream",
     "text": [
      "Epoch 343: training accuracy: 0.9946473240852356\n",
      "Epoch 343: test accuracy: 0.9881112575531006\n"
     ]
    },
    {
     "name": "stderr",
     "output_type": "stream",
     "text": [
      "100%|█████████████████████████████████████████████████████████████████████████████████████| 292/292 [00:05<00:00, 49.51it/s]\n",
      "100%|███████████████████████████████████████████████████████████████████████████████████████| 22/22 [00:00<00:00, 22.38it/s]\n"
     ]
    },
    {
     "name": "stdout",
     "output_type": "stream",
     "text": [
      "Epoch 344: training accuracy: 0.994664192199707\n",
      "Epoch 344: test accuracy: 0.9881504774093628\n"
     ]
    },
    {
     "name": "stderr",
     "output_type": "stream",
     "text": [
      "100%|█████████████████████████████████████████████████████████████████████████████████████| 292/292 [00:05<00:00, 50.43it/s]\n",
      "100%|███████████████████████████████████████████████████████████████████████████████████████| 22/22 [00:00<00:00, 22.80it/s]\n"
     ]
    },
    {
     "name": "stdout",
     "output_type": "stream",
     "text": [
      "Epoch 345: training accuracy: 0.9946802258491516\n",
      "Epoch 345: test accuracy: 0.9881663918495178\n"
     ]
    },
    {
     "name": "stderr",
     "output_type": "stream",
     "text": [
      "100%|█████████████████████████████████████████████████████████████████████████████████████| 292/292 [00:05<00:00, 50.23it/s]\n",
      "100%|███████████████████████████████████████████████████████████████████████████████████████| 22/22 [00:00<00:00, 22.01it/s]\n"
     ]
    },
    {
     "name": "stdout",
     "output_type": "stream",
     "text": [
      "Epoch 346: training accuracy: 0.9946974515914917\n",
      "Epoch 346: test accuracy: 0.9881695508956909\n"
     ]
    },
    {
     "name": "stderr",
     "output_type": "stream",
     "text": [
      "100%|█████████████████████████████████████████████████████████████████████████████████████| 292/292 [00:05<00:00, 50.17it/s]\n",
      "100%|███████████████████████████████████████████████████████████████████████████████████████| 22/22 [00:00<00:00, 22.69it/s]\n"
     ]
    },
    {
     "name": "stdout",
     "output_type": "stream",
     "text": [
      "Epoch 347: training accuracy: 0.9947146773338318\n",
      "Epoch 347: test accuracy: 0.9881930947303772\n"
     ]
    },
    {
     "name": "stderr",
     "output_type": "stream",
     "text": [
      "100%|█████████████████████████████████████████████████████████████████████████████████████| 292/292 [00:05<00:00, 50.46it/s]\n",
      "100%|███████████████████████████████████████████████████████████████████████████████████████| 22/22 [00:00<00:00, 23.09it/s]\n"
     ]
    },
    {
     "name": "stdout",
     "output_type": "stream",
     "text": [
      "Epoch 348: training accuracy: 0.9947305917739868\n",
      "Epoch 348: test accuracy: 0.9882235527038574\n"
     ]
    },
    {
     "name": "stderr",
     "output_type": "stream",
     "text": [
      "100%|█████████████████████████████████████████████████████████████████████████████████████| 292/292 [00:05<00:00, 49.79it/s]\n",
      "100%|███████████████████████████████████████████████████████████████████████████████████████| 22/22 [00:00<00:00, 22.38it/s]\n"
     ]
    },
    {
     "name": "stdout",
     "output_type": "stream",
     "text": [
      "Epoch 349: training accuracy: 0.9947465062141418\n",
      "Epoch 349: test accuracy: 0.9882653951644897\n"
     ]
    },
    {
     "name": "stderr",
     "output_type": "stream",
     "text": [
      "100%|█████████████████████████████████████████████████████████████████████████████████████| 292/292 [00:05<00:00, 50.11it/s]\n",
      "100%|███████████████████████████████████████████████████████████████████████████████████████| 22/22 [00:00<00:00, 22.59it/s]\n"
     ]
    },
    {
     "name": "stdout",
     "output_type": "stream",
     "text": [
      "Epoch 350: training accuracy: 0.9947613477706909\n",
      "Epoch 350: test accuracy: 0.9882938861846924\n"
     ]
    },
    {
     "name": "stderr",
     "output_type": "stream",
     "text": [
      "100%|█████████████████████████████████████████████████████████████████████████████████████| 292/292 [00:05<00:00, 50.52it/s]\n",
      "100%|███████████████████████████████████████████████████████████████████████████████████████| 22/22 [00:00<00:00, 22.64it/s]\n"
     ]
    },
    {
     "name": "stdout",
     "output_type": "stream",
     "text": [
      "Epoch 351: training accuracy: 0.9947768449783325\n",
      "Epoch 351: test accuracy: 0.9883180260658264\n"
     ]
    },
    {
     "name": "stderr",
     "output_type": "stream",
     "text": [
      "100%|█████████████████████████████████████████████████████████████████████████████████████| 292/292 [00:05<00:00, 50.15it/s]\n",
      "100%|███████████████████████████████████████████████████████████████████████████████████████| 22/22 [00:00<00:00, 22.23it/s]\n"
     ]
    },
    {
     "name": "stdout",
     "output_type": "stream",
     "text": [
      "Epoch 352: training accuracy: 0.9947932362556458\n",
      "Epoch 352: test accuracy: 0.9883662462234497\n"
     ]
    },
    {
     "name": "stderr",
     "output_type": "stream",
     "text": [
      "100%|█████████████████████████████████████████████████████████████████████████████████████| 292/292 [00:05<00:00, 50.19it/s]\n",
      "100%|███████████████████████████████████████████████████████████████████████████████████████| 22/22 [00:01<00:00, 21.76it/s]\n"
     ]
    },
    {
     "name": "stdout",
     "output_type": "stream",
     "text": [
      "Epoch 353: training accuracy: 0.994807779788971\n",
      "Epoch 353: test accuracy: 0.9883922934532166\n"
     ]
    },
    {
     "name": "stderr",
     "output_type": "stream",
     "text": [
      "100%|█████████████████████████████████████████████████████████████████████████████████████| 292/292 [00:05<00:00, 49.68it/s]\n",
      "100%|███████████████████████████████████████████████████████████████████████████████████████| 22/22 [00:00<00:00, 22.29it/s]\n"
     ]
    },
    {
     "name": "stdout",
     "output_type": "stream",
     "text": [
      "Epoch 354: training accuracy: 0.9948214292526245\n",
      "Epoch 354: test accuracy: 0.988426148891449\n"
     ]
    },
    {
     "name": "stderr",
     "output_type": "stream",
     "text": [
      "100%|█████████████████████████████████████████████████████████████████████████████████████| 292/292 [00:05<00:00, 49.96it/s]\n",
      "100%|███████████████████████████████████████████████████████████████████████████████████████| 22/22 [00:00<00:00, 22.24it/s]\n"
     ]
    },
    {
     "name": "stdout",
     "output_type": "stream",
     "text": [
      "Epoch 355: training accuracy: 0.9948353171348572\n",
      "Epoch 355: test accuracy: 0.9884557127952576\n"
     ]
    },
    {
     "name": "stderr",
     "output_type": "stream",
     "text": [
      "100%|█████████████████████████████████████████████████████████████████████████████████████| 292/292 [00:05<00:00, 50.08it/s]\n",
      "100%|███████████████████████████████████████████████████████████████████████████████████████| 22/22 [00:00<00:00, 22.59it/s]\n"
     ]
    },
    {
     "name": "stdout",
     "output_type": "stream",
     "text": [
      "Epoch 356: training accuracy: 0.9948499202728271\n",
      "Epoch 356: test accuracy: 0.9884857535362244\n"
     ]
    },
    {
     "name": "stderr",
     "output_type": "stream",
     "text": [
      "100%|█████████████████████████████████████████████████████████████████████████████████████| 292/292 [00:05<00:00, 50.23it/s]\n",
      "100%|███████████████████████████████████████████████████████████████████████████████████████| 22/22 [00:00<00:00, 22.49it/s]\n"
     ]
    },
    {
     "name": "stdout",
     "output_type": "stream",
     "text": [
      "Epoch 357: training accuracy: 0.994864284992218\n",
      "Epoch 357: test accuracy: 0.9884829521179199\n"
     ]
    },
    {
     "name": "stderr",
     "output_type": "stream",
     "text": [
      "100%|█████████████████████████████████████████████████████████████████████████████████████| 292/292 [00:05<00:00, 49.88it/s]\n",
      "100%|███████████████████████████████████████████████████████████████████████████████████████| 22/22 [00:00<00:00, 22.62it/s]\n"
     ]
    },
    {
     "name": "stdout",
     "output_type": "stream",
     "text": [
      "Epoch 358: training accuracy: 0.9948776960372925\n",
      "Epoch 358: test accuracy: 0.9884979724884033\n"
     ]
    },
    {
     "name": "stderr",
     "output_type": "stream",
     "text": [
      "100%|█████████████████████████████████████████████████████████████████████████████████████| 292/292 [00:05<00:00, 50.23it/s]\n",
      "100%|███████████████████████████████████████████████████████████████████████████████████████| 22/22 [00:00<00:00, 22.46it/s]\n"
     ]
    },
    {
     "name": "stdout",
     "output_type": "stream",
     "text": [
      "Epoch 359: training accuracy: 0.9948906302452087\n",
      "Epoch 359: test accuracy: 0.9884910583496094\n"
     ]
    },
    {
     "name": "stderr",
     "output_type": "stream",
     "text": [
      "100%|█████████████████████████████████████████████████████████████████████████████████████| 292/292 [00:05<00:00, 49.92it/s]\n",
      "100%|███████████████████████████████████████████████████████████████████████████████████████| 22/22 [00:00<00:00, 22.61it/s]\n"
     ]
    },
    {
     "name": "stdout",
     "output_type": "stream",
     "text": [
      "Epoch 360: training accuracy: 0.9949061274528503\n",
      "Epoch 360: test accuracy: 0.9885281324386597\n"
     ]
    },
    {
     "name": "stderr",
     "output_type": "stream",
     "text": [
      "100%|█████████████████████████████████████████████████████████████████████████████████████| 292/292 [00:05<00:00, 50.24it/s]\n",
      "100%|███████████████████████████████████████████████████████████████████████████████████████| 22/22 [00:00<00:00, 22.46it/s]\n"
     ]
    },
    {
     "name": "stdout",
     "output_type": "stream",
     "text": [
      "Epoch 361: training accuracy: 0.9949206113815308\n",
      "Epoch 361: test accuracy: 0.9885430932044983\n"
     ]
    },
    {
     "name": "stderr",
     "output_type": "stream",
     "text": [
      "100%|█████████████████████████████████████████████████████████████████████████████████████| 292/292 [00:05<00:00, 50.00it/s]\n",
      "100%|███████████████████████████████████████████████████████████████████████████████████████| 22/22 [00:00<00:00, 22.62it/s]\n"
     ]
    },
    {
     "name": "stdout",
     "output_type": "stream",
     "text": [
      "Epoch 362: training accuracy: 0.9949337840080261\n",
      "Epoch 362: test accuracy: 0.9885656833648682\n"
     ]
    },
    {
     "name": "stderr",
     "output_type": "stream",
     "text": [
      "100%|█████████████████████████████████████████████████████████████████████████████████████| 292/292 [00:05<00:00, 49.71it/s]\n",
      "100%|███████████████████████████████████████████████████████████████████████████████████████| 22/22 [00:00<00:00, 22.12it/s]\n"
     ]
    },
    {
     "name": "stdout",
     "output_type": "stream",
     "text": [
      "Epoch 363: training accuracy: 0.9949492812156677\n",
      "Epoch 363: test accuracy: 0.9885678887367249\n"
     ]
    },
    {
     "name": "stderr",
     "output_type": "stream",
     "text": [
      "100%|█████████████████████████████████████████████████████████████████████████████████████| 292/292 [00:05<00:00, 50.06it/s]\n",
      "100%|███████████████████████████████████████████████████████████████████████████████████████| 22/22 [00:00<00:00, 22.69it/s]\n"
     ]
    },
    {
     "name": "stdout",
     "output_type": "stream",
     "text": [
      "Epoch 364: training accuracy: 0.9949623346328735\n",
      "Epoch 364: test accuracy: 0.9885843992233276\n"
     ]
    },
    {
     "name": "stderr",
     "output_type": "stream",
     "text": [
      "100%|█████████████████████████████████████████████████████████████████████████████████████| 292/292 [00:05<00:00, 50.29it/s]\n",
      "100%|███████████████████████████████████████████████████████████████████████████████████████| 22/22 [00:00<00:00, 22.56it/s]\n"
     ]
    },
    {
     "name": "stdout",
     "output_type": "stream",
     "text": [
      "Epoch 365: training accuracy: 0.994976282119751\n",
      "Epoch 365: test accuracy: 0.9885745644569397\n"
     ]
    },
    {
     "name": "stderr",
     "output_type": "stream",
     "text": [
      "100%|█████████████████████████████████████████████████████████████████████████████████████| 292/292 [00:05<00:00, 50.48it/s]\n",
      "100%|███████████████████████████████████████████████████████████████████████████████████████| 22/22 [00:00<00:00, 22.25it/s]\n"
     ]
    },
    {
     "name": "stdout",
     "output_type": "stream",
     "text": [
      "Epoch 366: training accuracy: 0.9949883818626404\n",
      "Epoch 366: test accuracy: 0.9885879755020142\n"
     ]
    },
    {
     "name": "stderr",
     "output_type": "stream",
     "text": [
      "100%|█████████████████████████████████████████████████████████████████████████████████████| 292/292 [00:05<00:00, 50.17it/s]\n",
      "100%|███████████████████████████████████████████████████████████████████████████████████████| 22/22 [00:00<00:00, 22.63it/s]\n"
     ]
    },
    {
     "name": "stdout",
     "output_type": "stream",
     "text": [
      "Epoch 367: training accuracy: 0.9950024485588074\n",
      "Epoch 367: test accuracy: 0.9886029362678528\n"
     ]
    },
    {
     "name": "stderr",
     "output_type": "stream",
     "text": [
      "100%|█████████████████████████████████████████████████████████████████████████████████████| 292/292 [00:05<00:00, 49.31it/s]\n",
      "100%|███████████████████████████████████████████████████████████████████████████████████████| 22/22 [00:01<00:00, 21.97it/s]\n"
     ]
    },
    {
     "name": "stdout",
     "output_type": "stream",
     "text": [
      "Epoch 368: training accuracy: 0.9950169324874878\n",
      "Epoch 368: test accuracy: 0.9886142611503601\n"
     ]
    },
    {
     "name": "stderr",
     "output_type": "stream",
     "text": [
      "100%|█████████████████████████████████████████████████████████████████████████████████████| 292/292 [00:05<00:00, 50.19it/s]\n",
      "100%|███████████████████████████████████████████████████████████████████████████████████████| 22/22 [00:00<00:00, 22.52it/s]\n"
     ]
    },
    {
     "name": "stdout",
     "output_type": "stream",
     "text": [
      "Epoch 369: training accuracy: 0.9950306415557861\n",
      "Epoch 369: test accuracy: 0.9886376857757568\n"
     ]
    },
    {
     "name": "stderr",
     "output_type": "stream",
     "text": [
      "100%|█████████████████████████████████████████████████████████████████████████████████████| 292/292 [00:05<00:00, 50.47it/s]\n",
      "100%|███████████████████████████████████████████████████████████████████████████████████████| 22/22 [00:00<00:00, 22.86it/s]\n"
     ]
    },
    {
     "name": "stdout",
     "output_type": "stream",
     "text": [
      "Epoch 370: training accuracy: 0.9950442910194397\n",
      "Epoch 370: test accuracy: 0.988648533821106\n"
     ]
    },
    {
     "name": "stderr",
     "output_type": "stream",
     "text": [
      "100%|█████████████████████████████████████████████████████████████████████████████████████| 292/292 [00:05<00:00, 49.99it/s]\n",
      "100%|███████████████████████████████████████████████████████████████████████████████████████| 22/22 [00:01<00:00, 21.80it/s]\n"
     ]
    },
    {
     "name": "stdout",
     "output_type": "stream",
     "text": [
      "Epoch 371: training accuracy: 0.9950571656227112\n",
      "Epoch 371: test accuracy: 0.988665759563446\n"
     ]
    },
    {
     "name": "stderr",
     "output_type": "stream",
     "text": [
      "100%|█████████████████████████████████████████████████████████████████████████████████████| 292/292 [00:05<00:00, 49.57it/s]\n",
      "100%|███████████████████████████████████████████████████████████████████████████████████████| 22/22 [00:00<00:00, 22.16it/s]\n"
     ]
    },
    {
     "name": "stdout",
     "output_type": "stream",
     "text": [
      "Epoch 372: training accuracy: 0.9950700998306274\n",
      "Epoch 372: test accuracy: 0.9886892437934875\n"
     ]
    },
    {
     "name": "stderr",
     "output_type": "stream",
     "text": [
      "100%|█████████████████████████████████████████████████████████████████████████████████████| 292/292 [00:05<00:00, 49.62it/s]\n",
      "100%|███████████████████████████████████████████████████████████████████████████████████████| 22/22 [00:01<00:00, 21.66it/s]\n"
     ]
    },
    {
     "name": "stdout",
     "output_type": "stream",
     "text": [
      "Epoch 373: training accuracy: 0.995083212852478\n",
      "Epoch 373: test accuracy: 0.9887209534645081\n"
     ]
    },
    {
     "name": "stderr",
     "output_type": "stream",
     "text": [
      "100%|█████████████████████████████████████████████████████████████████████████████████████| 292/292 [00:05<00:00, 50.38it/s]\n",
      "100%|███████████████████████████████████████████████████████████████████████████████████████| 22/22 [00:00<00:00, 22.06it/s]\n"
     ]
    },
    {
     "name": "stdout",
     "output_type": "stream",
     "text": [
      "Epoch 374: training accuracy: 0.9950942993164062\n",
      "Epoch 374: test accuracy: 0.9887391924858093\n"
     ]
    },
    {
     "name": "stderr",
     "output_type": "stream",
     "text": [
      "100%|█████████████████████████████████████████████████████████████████████████████████████| 292/292 [00:05<00:00, 49.83it/s]\n",
      "100%|███████████████████████████████████████████████████████████████████████████████████████| 22/22 [00:01<00:00, 21.31it/s]\n"
     ]
    },
    {
     "name": "stdout",
     "output_type": "stream",
     "text": [
      "Epoch 375: training accuracy: 0.9951073527336121\n",
      "Epoch 375: test accuracy: 0.9887548685073853\n"
     ]
    },
    {
     "name": "stderr",
     "output_type": "stream",
     "text": [
      "100%|█████████████████████████████████████████████████████████████████████████████████████| 292/292 [00:05<00:00, 50.20it/s]\n",
      "100%|███████████████████████████████████████████████████████████████████████████████████████| 22/22 [00:00<00:00, 22.46it/s]\n"
     ]
    },
    {
     "name": "stdout",
     "output_type": "stream",
     "text": [
      "Epoch 376: training accuracy: 0.995120644569397\n",
      "Epoch 376: test accuracy: 0.9887793064117432\n"
     ]
    },
    {
     "name": "stderr",
     "output_type": "stream",
     "text": [
      "100%|█████████████████████████████████████████████████████████████████████████████████████| 292/292 [00:05<00:00, 50.59it/s]\n",
      "100%|███████████████████████████████████████████████████████████████████████████████████████| 22/22 [00:00<00:00, 22.91it/s]\n"
     ]
    },
    {
     "name": "stdout",
     "output_type": "stream",
     "text": [
      "Epoch 377: training accuracy: 0.9951324462890625\n",
      "Epoch 377: test accuracy: 0.9887999296188354\n"
     ]
    },
    {
     "name": "stderr",
     "output_type": "stream",
     "text": [
      "100%|█████████████████████████████████████████████████████████████████████████████████████| 292/292 [00:05<00:00, 49.70it/s]\n",
      "100%|███████████████████████████████████████████████████████████████████████████████████████| 22/22 [00:00<00:00, 22.80it/s]\n"
     ]
    },
    {
     "name": "stdout",
     "output_type": "stream",
     "text": [
      "Epoch 378: training accuracy: 0.9951452016830444\n",
      "Epoch 378: test accuracy: 0.9888045787811279\n"
     ]
    },
    {
     "name": "stderr",
     "output_type": "stream",
     "text": [
      "100%|█████████████████████████████████████████████████████████████████████████████████████| 292/292 [00:05<00:00, 50.32it/s]\n",
      "100%|███████████████████████████████████████████████████████████████████████████████████████| 22/22 [00:00<00:00, 22.47it/s]\n"
     ]
    },
    {
     "name": "stdout",
     "output_type": "stream",
     "text": [
      "Epoch 379: training accuracy: 0.9951580762863159\n",
      "Epoch 379: test accuracy: 0.9888243079185486\n"
     ]
    },
    {
     "name": "stderr",
     "output_type": "stream",
     "text": [
      "100%|█████████████████████████████████████████████████████████████████████████████████████| 292/292 [00:05<00:00, 50.69it/s]\n",
      "100%|███████████████████████████████████████████████████████████████████████████████████████| 22/22 [00:00<00:00, 22.43it/s]\n"
     ]
    },
    {
     "name": "stdout",
     "output_type": "stream",
     "text": [
      "Epoch 380: training accuracy: 0.9951691627502441\n",
      "Epoch 380: test accuracy: 0.9888532161712646\n"
     ]
    },
    {
     "name": "stderr",
     "output_type": "stream",
     "text": [
      "100%|█████████████████████████████████████████████████████████████████████████████████████| 292/292 [00:05<00:00, 50.23it/s]\n",
      "100%|███████████████████████████████████████████████████████████████████████████████████████| 22/22 [00:00<00:00, 22.37it/s]\n"
     ]
    },
    {
     "name": "stdout",
     "output_type": "stream",
     "text": [
      "Epoch 381: training accuracy: 0.9951810240745544\n",
      "Epoch 381: test accuracy: 0.9888781309127808\n"
     ]
    },
    {
     "name": "stderr",
     "output_type": "stream",
     "text": [
      "100%|█████████████████████████████████████████████████████████████████████████████████████| 292/292 [00:05<00:00, 50.25it/s]\n",
      "100%|███████████████████████████████████████████████████████████████████████████████████████| 22/22 [00:00<00:00, 22.62it/s]\n"
     ]
    },
    {
     "name": "stdout",
     "output_type": "stream",
     "text": [
      "Epoch 382: training accuracy: 0.9951933026313782\n",
      "Epoch 382: test accuracy: 0.9888986349105835\n"
     ]
    },
    {
     "name": "stderr",
     "output_type": "stream",
     "text": [
      "100%|█████████████████████████████████████████████████████████████████████████████████████| 292/292 [00:05<00:00, 48.93it/s]\n",
      "100%|███████████████████████████████████████████████████████████████████████████████████████| 22/22 [00:00<00:00, 22.83it/s]\n"
     ]
    },
    {
     "name": "stdout",
     "output_type": "stream",
     "text": [
      "Epoch 383: training accuracy: 0.9952054023742676\n",
      "Epoch 383: test accuracy: 0.988930881023407\n"
     ]
    },
    {
     "name": "stderr",
     "output_type": "stream",
     "text": [
      "100%|█████████████████████████████████████████████████████████████████████████████████████| 292/292 [00:05<00:00, 49.72it/s]\n",
      "100%|███████████████████████████████████████████████████████████████████████████████████████| 22/22 [00:00<00:00, 22.59it/s]\n"
     ]
    },
    {
     "name": "stdout",
     "output_type": "stream",
     "text": [
      "Epoch 384: training accuracy: 0.9952165484428406\n",
      "Epoch 384: test accuracy: 0.9889397025108337\n"
     ]
    },
    {
     "name": "stderr",
     "output_type": "stream",
     "text": [
      "100%|█████████████████████████████████████████████████████████████████████████████████████| 292/292 [00:05<00:00, 50.65it/s]\n",
      "100%|███████████████████████████████████████████████████████████████████████████████████████| 22/22 [00:00<00:00, 22.42it/s]\n"
     ]
    },
    {
     "name": "stdout",
     "output_type": "stream",
     "text": [
      "Epoch 385: training accuracy: 0.9952266812324524\n",
      "Epoch 385: test accuracy: 0.9889692068099976\n"
     ]
    },
    {
     "name": "stderr",
     "output_type": "stream",
     "text": [
      "100%|█████████████████████████████████████████████████████████████████████████████████████| 292/292 [00:05<00:00, 49.86it/s]\n",
      "100%|███████████████████████████████████████████████████████████████████████████████████████| 22/22 [00:00<00:00, 22.46it/s]\n"
     ]
    },
    {
     "name": "stdout",
     "output_type": "stream",
     "text": [
      "Epoch 386: training accuracy: 0.9952366948127747\n",
      "Epoch 386: test accuracy: 0.9889883399009705\n"
     ]
    },
    {
     "name": "stderr",
     "output_type": "stream",
     "text": [
      "100%|█████████████████████████████████████████████████████████████████████████████████████| 292/292 [00:05<00:00, 50.18it/s]\n",
      "100%|███████████████████████████████████████████████████████████████████████████████████████| 22/22 [00:00<00:00, 22.53it/s]\n"
     ]
    },
    {
     "name": "stdout",
     "output_type": "stream",
     "text": [
      "Epoch 387: training accuracy: 0.9952487945556641\n",
      "Epoch 387: test accuracy: 0.9890171885490417\n"
     ]
    },
    {
     "name": "stderr",
     "output_type": "stream",
     "text": [
      "100%|█████████████████████████████████████████████████████████████████████████████████████| 292/292 [00:05<00:00, 49.52it/s]\n",
      "100%|███████████████████████████████████████████████████████████████████████████████████████| 22/22 [00:01<00:00, 21.61it/s]\n"
     ]
    },
    {
     "name": "stdout",
     "output_type": "stream",
     "text": [
      "Epoch 388: training accuracy: 0.9952594041824341\n",
      "Epoch 388: test accuracy: 0.9890462160110474\n"
     ]
    },
    {
     "name": "stderr",
     "output_type": "stream",
     "text": [
      "100%|█████████████████████████████████████████████████████████████████████████████████████| 292/292 [00:05<00:00, 50.30it/s]\n",
      "100%|███████████████████████████████████████████████████████████████████████████████████████| 22/22 [00:01<00:00, 21.23it/s]\n"
     ]
    },
    {
     "name": "stdout",
     "output_type": "stream",
     "text": [
      "Epoch 389: training accuracy: 0.9952709078788757\n",
      "Epoch 389: test accuracy: 0.9890691637992859\n"
     ]
    },
    {
     "name": "stderr",
     "output_type": "stream",
     "text": [
      "100%|█████████████████████████████████████████████████████████████████████████████████████| 292/292 [00:05<00:00, 50.19it/s]\n",
      "100%|███████████████████████████████████████████████████████████████████████████████████████| 22/22 [00:00<00:00, 22.30it/s]\n"
     ]
    },
    {
     "name": "stdout",
     "output_type": "stream",
     "text": [
      "Epoch 390: training accuracy: 0.9952832460403442\n",
      "Epoch 390: test accuracy: 0.9890950322151184\n"
     ]
    },
    {
     "name": "stderr",
     "output_type": "stream",
     "text": [
      "100%|█████████████████████████████████████████████████████████████████████████████████████| 292/292 [00:05<00:00, 50.41it/s]\n",
      "100%|███████████████████████████████████████████████████████████████████████████████████████| 22/22 [00:01<00:00, 21.69it/s]\n"
     ]
    },
    {
     "name": "stdout",
     "output_type": "stream",
     "text": [
      "Epoch 391: training accuracy: 0.9952951073646545\n",
      "Epoch 391: test accuracy: 0.9891161322593689\n"
     ]
    },
    {
     "name": "stderr",
     "output_type": "stream",
     "text": [
      "100%|█████████████████████████████████████████████████████████████████████████████████████| 292/292 [00:05<00:00, 50.17it/s]\n",
      "100%|███████████████████████████████████████████████████████████████████████████████████████| 22/22 [00:00<00:00, 22.03it/s]\n"
     ]
    },
    {
     "name": "stdout",
     "output_type": "stream",
     "text": [
      "Epoch 392: training accuracy: 0.995305597782135\n",
      "Epoch 392: test accuracy: 0.989133894443512\n"
     ]
    },
    {
     "name": "stderr",
     "output_type": "stream",
     "text": [
      "100%|█████████████████████████████████████████████████████████████████████████████████████| 292/292 [00:05<00:00, 49.37it/s]\n",
      "100%|███████████████████████████████████████████████████████████████████████████████████████| 22/22 [00:00<00:00, 22.79it/s]\n"
     ]
    },
    {
     "name": "stdout",
     "output_type": "stream",
     "text": [
      "Epoch 393: training accuracy: 0.9953161478042603\n",
      "Epoch 393: test accuracy: 0.9891591668128967\n"
     ]
    },
    {
     "name": "stderr",
     "output_type": "stream",
     "text": [
      "100%|█████████████████████████████████████████████████████████████████████████████████████| 292/292 [00:05<00:00, 50.43it/s]\n",
      "100%|███████████████████████████████████████████████████████████████████████████████████████| 22/22 [00:00<00:00, 22.61it/s]\n"
     ]
    },
    {
     "name": "stdout",
     "output_type": "stream",
     "text": [
      "Epoch 394: training accuracy: 0.995327353477478\n",
      "Epoch 394: test accuracy: 0.9891667366027832\n"
     ]
    },
    {
     "name": "stderr",
     "output_type": "stream",
     "text": [
      "100%|█████████████████████████████████████████████████████████████████████████████████████| 292/292 [00:05<00:00, 50.32it/s]\n",
      "100%|███████████████████████████████████████████████████████████████████████████████████████| 22/22 [00:00<00:00, 22.64it/s]\n"
     ]
    },
    {
     "name": "stdout",
     "output_type": "stream",
     "text": [
      "Epoch 395: training accuracy: 0.9953389763832092\n",
      "Epoch 395: test accuracy: 0.9891964793205261\n"
     ]
    },
    {
     "name": "stderr",
     "output_type": "stream",
     "text": [
      "100%|█████████████████████████████████████████████████████████████████████████████████████| 292/292 [00:05<00:00, 50.24it/s]\n",
      "100%|███████████████████████████████████████████████████████████████████████████████████████| 22/22 [00:00<00:00, 22.70it/s]\n"
     ]
    },
    {
     "name": "stdout",
     "output_type": "stream",
     "text": [
      "Epoch 396: training accuracy: 0.9953506588935852\n",
      "Epoch 396: test accuracy: 0.9892094135284424\n"
     ]
    },
    {
     "name": "stderr",
     "output_type": "stream",
     "text": [
      "100%|█████████████████████████████████████████████████████████████████████████████████████| 292/292 [00:05<00:00, 50.57it/s]\n",
      "100%|███████████████████████████████████████████████████████████████████████████████████████| 22/22 [00:00<00:00, 22.49it/s]\n"
     ]
    },
    {
     "name": "stdout",
     "output_type": "stream",
     "text": [
      "Epoch 397: training accuracy: 0.9953615665435791\n",
      "Epoch 397: test accuracy: 0.9892302751541138\n"
     ]
    },
    {
     "name": "stderr",
     "output_type": "stream",
     "text": [
      "100%|█████████████████████████████████████████████████████████████████████████████████████| 292/292 [00:05<00:00, 49.70it/s]\n",
      "100%|███████████████████████████████████████████████████████████████████████████████████████| 22/22 [00:00<00:00, 22.10it/s]\n"
     ]
    },
    {
     "name": "stdout",
     "output_type": "stream",
     "text": [
      "Epoch 398: training accuracy: 0.9953723549842834\n",
      "Epoch 398: test accuracy: 0.9892390966415405\n"
     ]
    },
    {
     "name": "stderr",
     "output_type": "stream",
     "text": [
      "100%|█████████████████████████████████████████████████████████████████████████████████████| 292/292 [00:05<00:00, 50.05it/s]\n",
      "100%|███████████████████████████████████████████████████████████████████████████████████████| 22/22 [00:00<00:00, 22.84it/s]\n"
     ]
    },
    {
     "name": "stdout",
     "output_type": "stream",
     "text": [
      "Epoch 399: training accuracy: 0.9953832626342773\n",
      "Epoch 399: test accuracy: 0.9892476797103882\n"
     ]
    },
    {
     "name": "stderr",
     "output_type": "stream",
     "text": [
      "100%|█████████████████████████████████████████████████████████████████████████████████████| 292/292 [00:05<00:00, 50.17it/s]\n",
      "100%|███████████████████████████████████████████████████████████████████████████████████████| 22/22 [00:00<00:00, 22.74it/s]\n"
     ]
    },
    {
     "name": "stdout",
     "output_type": "stream",
     "text": [
      "Epoch 400: training accuracy: 0.9953935146331787\n",
      "Epoch 400: test accuracy: 0.9892538785934448\n"
     ]
    },
    {
     "name": "stderr",
     "output_type": "stream",
     "text": [
      "100%|█████████████████████████████████████████████████████████████████████████████████████| 292/292 [00:05<00:00, 50.21it/s]\n",
      "100%|███████████████████████████████████████████████████████████████████████████████████████| 22/22 [00:00<00:00, 22.90it/s]\n"
     ]
    },
    {
     "name": "stdout",
     "output_type": "stream",
     "text": [
      "Epoch 401: training accuracy: 0.995402991771698\n",
      "Epoch 401: test accuracy: 0.989258885383606\n"
     ]
    },
    {
     "name": "stderr",
     "output_type": "stream",
     "text": [
      "100%|█████████████████████████████████████████████████████████████████████████████████████| 292/292 [00:05<00:00, 49.70it/s]\n",
      "100%|███████████████████████████████████████████████████████████████████████████████████████| 22/22 [00:00<00:00, 22.08it/s]\n"
     ]
    },
    {
     "name": "stdout",
     "output_type": "stream",
     "text": [
      "Epoch 402: training accuracy: 0.9954133629798889\n",
      "Epoch 402: test accuracy: 0.9892711639404297\n"
     ]
    },
    {
     "name": "stderr",
     "output_type": "stream",
     "text": [
      "100%|█████████████████████████████████████████████████████████████████████████████████████| 292/292 [00:05<00:00, 49.30it/s]\n",
      "100%|███████████████████████████████████████████████████████████████████████████████████████| 22/22 [00:00<00:00, 22.43it/s]\n"
     ]
    },
    {
     "name": "stdout",
     "output_type": "stream",
     "text": [
      "Epoch 403: training accuracy: 0.995421826839447\n",
      "Epoch 403: test accuracy: 0.9892948269844055\n"
     ]
    },
    {
     "name": "stderr",
     "output_type": "stream",
     "text": [
      "100%|█████████████████████████████████████████████████████████████████████████████████████| 292/292 [00:05<00:00, 50.43it/s]\n",
      "100%|███████████████████████████████████████████████████████████████████████████████████████| 22/22 [00:00<00:00, 22.76it/s]\n"
     ]
    },
    {
     "name": "stdout",
     "output_type": "stream",
     "text": [
      "Epoch 404: training accuracy: 0.9954323768615723\n",
      "Epoch 404: test accuracy: 0.9893121719360352\n"
     ]
    },
    {
     "name": "stderr",
     "output_type": "stream",
     "text": [
      "100%|█████████████████████████████████████████████████████████████████████████████████████| 292/292 [00:05<00:00, 50.24it/s]\n",
      "100%|███████████████████████████████████████████████████████████████████████████████████████| 22/22 [00:00<00:00, 22.48it/s]\n"
     ]
    },
    {
     "name": "stdout",
     "output_type": "stream",
     "text": [
      "Epoch 405: training accuracy: 0.9954423308372498\n",
      "Epoch 405: test accuracy: 0.9893183708190918\n"
     ]
    },
    {
     "name": "stderr",
     "output_type": "stream",
     "text": [
      "100%|█████████████████████████████████████████████████████████████████████████████████████| 292/292 [00:05<00:00, 50.36it/s]\n",
      "100%|███████████████████████████████████████████████████████████████████████████████████████| 22/22 [00:00<00:00, 22.15it/s]\n"
     ]
    },
    {
     "name": "stdout",
     "output_type": "stream",
     "text": [
      "Epoch 406: training accuracy: 0.9954515099525452\n",
      "Epoch 406: test accuracy: 0.9893337488174438\n"
     ]
    },
    {
     "name": "stderr",
     "output_type": "stream",
     "text": [
      "100%|█████████████████████████████████████████████████████████████████████████████████████| 292/292 [00:05<00:00, 49.89it/s]\n",
      "100%|███████████████████████████████████████████████████████████████████████████████████████| 22/22 [00:00<00:00, 22.57it/s]\n"
     ]
    },
    {
     "name": "stdout",
     "output_type": "stream",
     "text": [
      "Epoch 407: training accuracy: 0.9954623579978943\n",
      "Epoch 407: test accuracy: 0.9893566966056824\n"
     ]
    },
    {
     "name": "stderr",
     "output_type": "stream",
     "text": [
      "100%|█████████████████████████████████████████████████████████████████████████████████████| 292/292 [00:05<00:00, 49.54it/s]\n",
      "100%|███████████████████████████████████████████████████████████████████████████████████████| 22/22 [00:00<00:00, 22.80it/s]\n"
     ]
    },
    {
     "name": "stdout",
     "output_type": "stream",
     "text": [
      "Epoch 408: training accuracy: 0.9954715967178345\n",
      "Epoch 408: test accuracy: 0.9893845319747925\n"
     ]
    },
    {
     "name": "stderr",
     "output_type": "stream",
     "text": [
      "100%|█████████████████████████████████████████████████████████████████████████████████████| 292/292 [00:05<00:00, 49.93it/s]\n",
      "100%|███████████████████████████████████████████████████████████████████████████████████████| 22/22 [00:00<00:00, 22.85it/s]\n"
     ]
    },
    {
     "name": "stdout",
     "output_type": "stream",
     "text": [
      "Epoch 409: training accuracy: 0.9954797625541687\n",
      "Epoch 409: test accuracy: 0.9894081354141235\n"
     ]
    },
    {
     "name": "stderr",
     "output_type": "stream",
     "text": [
      "100%|█████████████████████████████████████████████████████████████████████████████████████| 292/292 [00:05<00:00, 50.31it/s]\n",
      "100%|███████████████████████████████████████████████████████████████████████████████████████| 22/22 [00:00<00:00, 22.46it/s]\n"
     ]
    },
    {
     "name": "stdout",
     "output_type": "stream",
     "text": [
      "Epoch 410: training accuracy: 0.9954880475997925\n",
      "Epoch 410: test accuracy: 0.989421546459198\n"
     ]
    },
    {
     "name": "stderr",
     "output_type": "stream",
     "text": [
      "100%|█████████████████████████████████████████████████████████████████████████████████████| 292/292 [00:05<00:00, 50.62it/s]\n",
      "100%|███████████████████████████████████████████████████████████████████████████████████████| 22/22 [00:00<00:00, 22.37it/s]\n"
     ]
    },
    {
     "name": "stdout",
     "output_type": "stream",
     "text": [
      "Epoch 411: training accuracy: 0.99549800157547\n",
      "Epoch 411: test accuracy: 0.9894348382949829\n"
     ]
    },
    {
     "name": "stderr",
     "output_type": "stream",
     "text": [
      "100%|█████████████████████████████████████████████████████████████████████████████████████| 292/292 [00:05<00:00, 50.67it/s]\n",
      "100%|███████████████████████████████████████████████████████████████████████████████████████| 22/22 [00:00<00:00, 22.45it/s]\n"
     ]
    },
    {
     "name": "stdout",
     "output_type": "stream",
     "text": [
      "Epoch 412: training accuracy: 0.9955076575279236\n",
      "Epoch 412: test accuracy: 0.9894503355026245\n"
     ]
    },
    {
     "name": "stderr",
     "output_type": "stream",
     "text": [
      "100%|█████████████████████████████████████████████████████████████████████████████████████| 292/292 [00:05<00:00, 49.05it/s]\n",
      "100%|███████████████████████████████████████████████████████████████████████████████████████| 22/22 [00:00<00:00, 22.80it/s]\n"
     ]
    },
    {
     "name": "stdout",
     "output_type": "stream",
     "text": [
      "Epoch 413: training accuracy: 0.9955172538757324\n",
      "Epoch 413: test accuracy: 0.9894652366638184\n"
     ]
    },
    {
     "name": "stderr",
     "output_type": "stream",
     "text": [
      "100%|█████████████████████████████████████████████████████████████████████████████████████| 292/292 [00:05<00:00, 50.09it/s]\n",
      "100%|███████████████████████████████████████████████████████████████████████████████████████| 22/22 [00:00<00:00, 22.55it/s]\n"
     ]
    },
    {
     "name": "stdout",
     "output_type": "stream",
     "text": [
      "Epoch 414: training accuracy: 0.9955267906188965\n",
      "Epoch 414: test accuracy: 0.9894735813140869\n"
     ]
    },
    {
     "name": "stderr",
     "output_type": "stream",
     "text": [
      "100%|█████████████████████████████████████████████████████████████████████████████████████| 292/292 [00:05<00:00, 50.32it/s]\n",
      "100%|███████████████████████████████████████████████████████████████████████████████████████| 22/22 [00:00<00:00, 22.24it/s]\n"
     ]
    },
    {
     "name": "stdout",
     "output_type": "stream",
     "text": [
      "Epoch 415: training accuracy: 0.9955357909202576\n",
      "Epoch 415: test accuracy: 0.9894788265228271\n"
     ]
    },
    {
     "name": "stderr",
     "output_type": "stream",
     "text": [
      "100%|█████████████████████████████████████████████████████████████████████████████████████| 292/292 [00:05<00:00, 50.13it/s]\n",
      "100%|███████████████████████████████████████████████████████████████████████████████████████| 22/22 [00:00<00:00, 22.72it/s]\n"
     ]
    },
    {
     "name": "stdout",
     "output_type": "stream",
     "text": [
      "Epoch 416: training accuracy: 0.9955455660820007\n",
      "Epoch 416: test accuracy: 0.989505410194397\n"
     ]
    },
    {
     "name": "stderr",
     "output_type": "stream",
     "text": [
      "100%|█████████████████████████████████████████████████████████████████████████████████████| 292/292 [00:05<00:00, 50.20it/s]\n",
      "100%|███████████████████████████████████████████████████████████████████████████████████████| 22/22 [00:00<00:00, 22.03it/s]\n"
     ]
    },
    {
     "name": "stdout",
     "output_type": "stream",
     "text": [
      "Epoch 417: training accuracy: 0.995555579662323\n",
      "Epoch 417: test accuracy: 0.9895085692405701\n"
     ]
    },
    {
     "name": "stderr",
     "output_type": "stream",
     "text": [
      "100%|█████████████████████████████████████████████████████████████████████████████████████| 292/292 [00:05<00:00, 50.28it/s]\n",
      "100%|███████████████████████████████████████████████████████████████████████████████████████| 22/22 [00:00<00:00, 22.64it/s]\n"
     ]
    },
    {
     "name": "stdout",
     "output_type": "stream",
     "text": [
      "Epoch 418: training accuracy: 0.9955641031265259\n",
      "Epoch 418: test accuracy: 0.9895002841949463\n"
     ]
    },
    {
     "name": "stderr",
     "output_type": "stream",
     "text": [
      "100%|█████████████████████████████████████████████████████████████████████████████████████| 292/292 [00:05<00:00, 50.29it/s]\n",
      "100%|███████████████████████████████████████████████████████████████████████████████████████| 22/22 [00:00<00:00, 22.45it/s]\n"
     ]
    },
    {
     "name": "stdout",
     "output_type": "stream",
     "text": [
      "Epoch 419: training accuracy: 0.9955706000328064\n",
      "Epoch 419: test accuracy: 0.989512026309967\n"
     ]
    },
    {
     "name": "stderr",
     "output_type": "stream",
     "text": [
      "100%|█████████████████████████████████████████████████████████████████████████████████████| 292/292 [00:05<00:00, 50.22it/s]\n",
      "100%|███████████████████████████████████████████████████████████████████████████████████████| 22/22 [00:00<00:00, 22.72it/s]\n"
     ]
    },
    {
     "name": "stdout",
     "output_type": "stream",
     "text": [
      "Epoch 420: training accuracy: 0.9955800771713257\n",
      "Epoch 420: test accuracy: 0.989521861076355\n"
     ]
    },
    {
     "name": "stderr",
     "output_type": "stream",
     "text": [
      "100%|█████████████████████████████████████████████████████████████████████████████████████| 292/292 [00:05<00:00, 50.12it/s]\n",
      "100%|███████████████████████████████████████████████████████████████████████████████████████| 22/22 [00:00<00:00, 22.27it/s]\n"
     ]
    },
    {
     "name": "stdout",
     "output_type": "stream",
     "text": [
      "Epoch 421: training accuracy: 0.995589017868042\n",
      "Epoch 421: test accuracy: 0.9895355701446533\n"
     ]
    },
    {
     "name": "stderr",
     "output_type": "stream",
     "text": [
      "100%|█████████████████████████████████████████████████████████████████████████████████████| 292/292 [00:05<00:00, 49.59it/s]\n",
      "100%|███████████████████████████████████████████████████████████████████████████████████████| 22/22 [00:01<00:00, 21.90it/s]\n"
     ]
    },
    {
     "name": "stdout",
     "output_type": "stream",
     "text": [
      "Epoch 422: training accuracy: 0.9955986142158508\n",
      "Epoch 422: test accuracy: 0.9895442724227905\n"
     ]
    },
    {
     "name": "stderr",
     "output_type": "stream",
     "text": [
      "100%|█████████████████████████████████████████████████████████████████████████████████████| 292/292 [00:05<00:00, 50.51it/s]\n",
      "100%|███████████████████████████████████████████████████████████████████████████████████████| 22/22 [00:00<00:00, 22.37it/s]\n"
     ]
    },
    {
     "name": "stdout",
     "output_type": "stream",
     "text": [
      "Epoch 423: training accuracy: 0.9956060647964478\n",
      "Epoch 423: test accuracy: 0.9895648956298828\n"
     ]
    },
    {
     "name": "stderr",
     "output_type": "stream",
     "text": [
      "100%|█████████████████████████████████████████████████████████████████████████████████████| 292/292 [00:05<00:00, 50.42it/s]\n",
      "100%|███████████████████████████████████████████████████████████████████████████████████████| 22/22 [00:00<00:00, 22.08it/s]\n"
     ]
    },
    {
     "name": "stdout",
     "output_type": "stream",
     "text": [
      "Epoch 424: training accuracy: 0.9956150054931641\n",
      "Epoch 424: test accuracy: 0.989577054977417\n"
     ]
    },
    {
     "name": "stderr",
     "output_type": "stream",
     "text": [
      "100%|█████████████████████████████████████████████████████████████████████████████████████| 292/292 [00:05<00:00, 49.81it/s]\n",
      "100%|███████████████████████████████████████████████████████████████████████████████████████| 22/22 [00:01<00:00, 21.61it/s]\n"
     ]
    },
    {
     "name": "stdout",
     "output_type": "stream",
     "text": [
      "Epoch 425: training accuracy: 0.9956232309341431\n",
      "Epoch 425: test accuracy: 0.9896020889282227\n"
     ]
    },
    {
     "name": "stderr",
     "output_type": "stream",
     "text": [
      "100%|█████████████████████████████████████████████████████████████████████████████████████| 292/292 [00:05<00:00, 50.60it/s]\n",
      "100%|███████████████████████████████████████████████████████████████████████████████████████| 22/22 [00:00<00:00, 22.24it/s]\n"
     ]
    },
    {
     "name": "stdout",
     "output_type": "stream",
     "text": [
      "Epoch 426: training accuracy: 0.9956321716308594\n",
      "Epoch 426: test accuracy: 0.9896218776702881\n"
     ]
    },
    {
     "name": "stderr",
     "output_type": "stream",
     "text": [
      "100%|█████████████████████████████████████████████████████████████████████████████████████| 292/292 [00:05<00:00, 49.78it/s]\n",
      "100%|███████████████████████████████████████████████████████████████████████████████████████| 22/22 [00:00<00:00, 22.61it/s]\n"
     ]
    },
    {
     "name": "stdout",
     "output_type": "stream",
     "text": [
      "Epoch 427: training accuracy: 0.9956417679786682\n",
      "Epoch 427: test accuracy: 0.9896364808082581\n"
     ]
    },
    {
     "name": "stderr",
     "output_type": "stream",
     "text": [
      "100%|█████████████████████████████████████████████████████████████████████████████████████| 292/292 [00:05<00:00, 50.49it/s]\n",
      "100%|███████████████████████████████████████████████████████████████████████████████████████| 22/22 [00:00<00:00, 22.50it/s]\n"
     ]
    },
    {
     "name": "stdout",
     "output_type": "stream",
     "text": [
      "Epoch 428: training accuracy: 0.9956504702568054\n",
      "Epoch 428: test accuracy: 0.9896541833877563\n"
     ]
    },
    {
     "name": "stderr",
     "output_type": "stream",
     "text": [
      "100%|█████████████████████████████████████████████████████████████████████████████████████| 292/292 [00:05<00:00, 50.16it/s]\n",
      "100%|███████████████████████████████████████████████████████████████████████████████████████| 22/22 [00:00<00:00, 22.37it/s]\n"
     ]
    },
    {
     "name": "stdout",
     "output_type": "stream",
     "text": [
      "Epoch 429: training accuracy: 0.9956597685813904\n",
      "Epoch 429: test accuracy: 0.9896829724311829\n"
     ]
    },
    {
     "name": "stderr",
     "output_type": "stream",
     "text": [
      "100%|█████████████████████████████████████████████████████████████████████████████████████| 292/292 [00:05<00:00, 50.48it/s]\n",
      "100%|███████████████████████████████████████████████████████████████████████████████████████| 22/22 [00:00<00:00, 22.66it/s]\n"
     ]
    },
    {
     "name": "stdout",
     "output_type": "stream",
     "text": [
      "Epoch 430: training accuracy: 0.9956691861152649\n",
      "Epoch 430: test accuracy: 0.9897028207778931\n"
     ]
    },
    {
     "name": "stderr",
     "output_type": "stream",
     "text": [
      "100%|█████████████████████████████████████████████████████████████████████████████████████| 292/292 [00:05<00:00, 49.51it/s]\n",
      "100%|███████████████████████████████████████████████████████████████████████████████████████| 22/22 [00:00<00:00, 22.21it/s]\n"
     ]
    },
    {
     "name": "stdout",
     "output_type": "stream",
     "text": [
      "Epoch 431: training accuracy: 0.9956763982772827\n",
      "Epoch 431: test accuracy: 0.9896860718727112\n"
     ]
    },
    {
     "name": "stderr",
     "output_type": "stream",
     "text": [
      "100%|█████████████████████████████████████████████████████████████████████████████████████| 292/292 [00:05<00:00, 49.47it/s]\n",
      "100%|███████████████████████████████████████████████████████████████████████████████████████| 22/22 [00:00<00:00, 22.05it/s]\n"
     ]
    },
    {
     "name": "stdout",
     "output_type": "stream",
     "text": [
      "Epoch 432: training accuracy: 0.9956837892532349\n",
      "Epoch 432: test accuracy: 0.989688515663147\n"
     ]
    },
    {
     "name": "stderr",
     "output_type": "stream",
     "text": [
      "100%|█████████████████████████████████████████████████████████████████████████████████████| 292/292 [00:05<00:00, 49.87it/s]\n",
      "100%|███████████████████████████████████████████████████████████████████████████████████████| 22/22 [00:00<00:00, 22.47it/s]\n"
     ]
    },
    {
     "name": "stdout",
     "output_type": "stream",
     "text": [
      "Epoch 433: training accuracy: 0.9956917762756348\n",
      "Epoch 433: test accuracy: 0.9897119402885437\n"
     ]
    },
    {
     "name": "stderr",
     "output_type": "stream",
     "text": [
      "100%|█████████████████████████████████████████████████████████████████████████████████████| 292/292 [00:05<00:00, 50.36it/s]\n",
      "100%|███████████████████████████████████████████████████████████████████████████████████████| 22/22 [00:00<00:00, 22.84it/s]\n"
     ]
    },
    {
     "name": "stdout",
     "output_type": "stream",
     "text": [
      "Epoch 434: training accuracy: 0.995701014995575\n",
      "Epoch 434: test accuracy: 0.9897202253341675\n"
     ]
    },
    {
     "name": "stderr",
     "output_type": "stream",
     "text": [
      "100%|█████████████████████████████████████████████████████████████████████████████████████| 292/292 [00:05<00:00, 50.22it/s]\n",
      "100%|███████████████████████████████████████████████████████████████████████████████████████| 22/22 [00:00<00:00, 22.17it/s]\n"
     ]
    },
    {
     "name": "stdout",
     "output_type": "stream",
     "text": [
      "Epoch 435: training accuracy: 0.9957088828086853\n",
      "Epoch 435: test accuracy: 0.989740788936615\n"
     ]
    },
    {
     "name": "stderr",
     "output_type": "stream",
     "text": [
      "100%|█████████████████████████████████████████████████████████████████████████████████████| 292/292 [00:05<00:00, 50.28it/s]\n",
      "100%|███████████████████████████████████████████████████████████████████████████████████████| 22/22 [00:00<00:00, 22.59it/s]\n"
     ]
    },
    {
     "name": "stdout",
     "output_type": "stream",
     "text": [
      "Epoch 436: training accuracy: 0.9957164525985718\n",
      "Epoch 436: test accuracy: 0.989753007888794\n"
     ]
    },
    {
     "name": "stderr",
     "output_type": "stream",
     "text": [
      "100%|█████████████████████████████████████████████████████████████████████████████████████| 292/292 [00:05<00:00, 49.16it/s]\n",
      "100%|███████████████████████████████████████████████████████████████████████████████████████| 22/22 [00:00<00:00, 22.68it/s]\n"
     ]
    },
    {
     "name": "stdout",
     "output_type": "stream",
     "text": [
      "Epoch 437: training accuracy: 0.9957246780395508\n",
      "Epoch 437: test accuracy: 0.9897634983062744\n"
     ]
    },
    {
     "name": "stderr",
     "output_type": "stream",
     "text": [
      "100%|█████████████████████████████████████████████████████████████████████████████████████| 292/292 [00:05<00:00, 50.28it/s]\n",
      "100%|███████████████████████████████████████████████████████████████████████████████████████| 22/22 [00:00<00:00, 22.50it/s]\n"
     ]
    },
    {
     "name": "stdout",
     "output_type": "stream",
     "text": [
      "Epoch 438: training accuracy: 0.9957329034805298\n",
      "Epoch 438: test accuracy: 0.989773690700531\n"
     ]
    },
    {
     "name": "stderr",
     "output_type": "stream",
     "text": [
      "100%|█████████████████████████████████████████████████████████████████████████████████████| 292/292 [00:05<00:00, 50.50it/s]\n",
      "100%|███████████████████████████████████████████████████████████████████████████████████████| 22/22 [00:00<00:00, 22.27it/s]\n"
     ]
    },
    {
     "name": "stdout",
     "output_type": "stream",
     "text": [
      "Epoch 439: training accuracy: 0.9957413077354431\n",
      "Epoch 439: test accuracy: 0.9897927641868591\n"
     ]
    },
    {
     "name": "stderr",
     "output_type": "stream",
     "text": [
      "100%|█████████████████████████████████████████████████████████████████████████████████████| 292/292 [00:05<00:00, 50.15it/s]\n",
      "100%|███████████████████████████████████████████████████████████████████████████████████████| 22/22 [00:00<00:00, 22.57it/s]\n"
     ]
    },
    {
     "name": "stdout",
     "output_type": "stream",
     "text": [
      "Epoch 440: training accuracy: 0.9957495331764221\n",
      "Epoch 440: test accuracy: 0.9897953867912292\n"
     ]
    },
    {
     "name": "stderr",
     "output_type": "stream",
     "text": [
      "100%|█████████████████████████████████████████████████████████████████████████████████████| 292/292 [00:05<00:00, 50.72it/s]\n",
      "100%|███████████████████████████████████████████████████████████████████████████████████████| 22/22 [00:00<00:00, 22.66it/s]\n"
     ]
    },
    {
     "name": "stdout",
     "output_type": "stream",
     "text": [
      "Epoch 441: training accuracy: 0.9957573413848877\n",
      "Epoch 441: test accuracy: 0.9898005723953247\n"
     ]
    },
    {
     "name": "stderr",
     "output_type": "stream",
     "text": [
      "100%|█████████████████████████████████████████████████████████████████████████████████████| 292/292 [00:05<00:00, 50.00it/s]\n",
      "100%|███████████████████████████████████████████████████████████████████████████████████████| 22/22 [00:00<00:00, 22.33it/s]\n"
     ]
    },
    {
     "name": "stdout",
     "output_type": "stream",
     "text": [
      "Epoch 442: training accuracy: 0.9957639575004578\n",
      "Epoch 442: test accuracy: 0.9898038506507874\n"
     ]
    },
    {
     "name": "stderr",
     "output_type": "stream",
     "text": [
      "100%|█████████████████████████████████████████████████████████████████████████████████████| 292/292 [00:05<00:00, 50.05it/s]\n",
      "100%|███████████████████████████████████████████████████████████████████████████████████████| 22/22 [00:00<00:00, 22.72it/s]\n"
     ]
    },
    {
     "name": "stdout",
     "output_type": "stream",
     "text": [
      "Epoch 443: training accuracy: 0.995772659778595\n",
      "Epoch 443: test accuracy: 0.9898179173469543\n"
     ]
    },
    {
     "name": "stderr",
     "output_type": "stream",
     "text": [
      "100%|█████████████████████████████████████████████████████████████████████████████████████| 292/292 [00:05<00:00, 50.10it/s]\n",
      "100%|███████████████████████████████████████████████████████████████████████████████████████| 22/22 [00:00<00:00, 23.01it/s]\n"
     ]
    },
    {
     "name": "stdout",
     "output_type": "stream",
     "text": [
      "Epoch 444: training accuracy: 0.9957804679870605\n",
      "Epoch 444: test accuracy: 0.989828884601593\n"
     ]
    },
    {
     "name": "stderr",
     "output_type": "stream",
     "text": [
      "100%|█████████████████████████████████████████████████████████████████████████████████████| 292/292 [00:05<00:00, 50.26it/s]\n",
      "100%|███████████████████████████████████████████████████████████████████████████████████████| 22/22 [00:00<00:00, 22.68it/s]\n"
     ]
    },
    {
     "name": "stdout",
     "output_type": "stream",
     "text": [
      "Epoch 445: training accuracy: 0.9957888126373291\n",
      "Epoch 445: test accuracy: 0.989848792552948\n"
     ]
    },
    {
     "name": "stderr",
     "output_type": "stream",
     "text": [
      "100%|█████████████████████████████████████████████████████████████████████████████████████| 292/292 [00:05<00:00, 49.70it/s]\n",
      "100%|███████████████████████████████████████████████████████████████████████████████████████| 22/22 [00:00<00:00, 22.53it/s]\n"
     ]
    },
    {
     "name": "stdout",
     "output_type": "stream",
     "text": [
      "Epoch 446: training accuracy: 0.9957972168922424\n",
      "Epoch 446: test accuracy: 0.9898661375045776\n"
     ]
    },
    {
     "name": "stderr",
     "output_type": "stream",
     "text": [
      "100%|█████████████████████████████████████████████████████████████████████████████████████| 292/292 [00:05<00:00, 49.35it/s]\n",
      "100%|███████████████████████████████████████████████████████████████████████████████████████| 22/22 [00:00<00:00, 22.61it/s]\n"
     ]
    },
    {
     "name": "stdout",
     "output_type": "stream",
     "text": [
      "Epoch 447: training accuracy: 0.9958045482635498\n",
      "Epoch 447: test accuracy: 0.9898641705513\n"
     ]
    },
    {
     "name": "stderr",
     "output_type": "stream",
     "text": [
      "100%|█████████████████████████████████████████████████████████████████████████████████████| 292/292 [00:05<00:00, 50.56it/s]\n",
      "100%|███████████████████████████████████████████████████████████████████████████████████████| 22/22 [00:00<00:00, 22.35it/s]\n"
     ]
    },
    {
     "name": "stdout",
     "output_type": "stream",
     "text": [
      "Epoch 448: training accuracy: 0.9958113431930542\n",
      "Epoch 448: test accuracy: 0.9898664355278015\n"
     ]
    },
    {
     "name": "stderr",
     "output_type": "stream",
     "text": [
      "100%|█████████████████████████████████████████████████████████████████████████████████████| 292/292 [00:05<00:00, 50.48it/s]\n",
      "100%|███████████████████████████████████████████████████████████████████████████████████████| 22/22 [00:00<00:00, 22.48it/s]\n"
     ]
    },
    {
     "name": "stdout",
     "output_type": "stream",
     "text": [
      "Epoch 449: training accuracy: 0.9958194494247437\n",
      "Epoch 449: test accuracy: 0.9898830652236938\n"
     ]
    },
    {
     "name": "stderr",
     "output_type": "stream",
     "text": [
      "100%|█████████████████████████████████████████████████████████████████████████████████████| 292/292 [00:05<00:00, 50.28it/s]\n",
      "100%|███████████████████████████████████████████████████████████████████████████████████████| 22/22 [00:00<00:00, 22.32it/s]\n"
     ]
    },
    {
     "name": "stdout",
     "output_type": "stream",
     "text": [
      "Epoch 450: training accuracy: 0.9958271384239197\n",
      "Epoch 450: test accuracy: 0.9898920059204102\n"
     ]
    },
    {
     "name": "stderr",
     "output_type": "stream",
     "text": [
      "100%|█████████████████████████████████████████████████████████████████████████████████████| 292/292 [00:05<00:00, 50.06it/s]\n",
      "100%|███████████████████████████████████████████████████████████████████████████████████████| 22/22 [00:00<00:00, 22.49it/s]\n"
     ]
    },
    {
     "name": "stdout",
     "output_type": "stream",
     "text": [
      "Epoch 451: training accuracy: 0.9958337545394897\n",
      "Epoch 451: test accuracy: 0.9899061322212219\n"
     ]
    },
    {
     "name": "stderr",
     "output_type": "stream",
     "text": [
      "100%|█████████████████████████████████████████████████████████████████████████████████████| 292/292 [00:05<00:00, 49.29it/s]\n",
      "100%|███████████████████████████████████████████████████████████████████████████████████████| 22/22 [00:00<00:00, 22.37it/s]\n"
     ]
    },
    {
     "name": "stdout",
     "output_type": "stream",
     "text": [
      "Epoch 452: training accuracy: 0.9958412647247314\n",
      "Epoch 452: test accuracy: 0.9899261593818665\n"
     ]
    },
    {
     "name": "stderr",
     "output_type": "stream",
     "text": [
      "100%|█████████████████████████████████████████████████████████████████████████████████████| 292/292 [00:05<00:00, 50.11it/s]\n",
      "100%|███████████████████████████████████████████████████████████████████████████████████████| 22/22 [00:00<00:00, 22.25it/s]\n"
     ]
    },
    {
     "name": "stdout",
     "output_type": "stream",
     "text": [
      "Epoch 453: training accuracy: 0.9958474636077881\n",
      "Epoch 453: test accuracy: 0.9899276494979858\n"
     ]
    },
    {
     "name": "stderr",
     "output_type": "stream",
     "text": [
      "100%|█████████████████████████████████████████████████████████████████████████████████████| 292/292 [00:05<00:00, 50.04it/s]\n",
      "100%|███████████████████████████████████████████████████████████████████████████████████████| 22/22 [00:00<00:00, 22.15it/s]\n"
     ]
    },
    {
     "name": "stdout",
     "output_type": "stream",
     "text": [
      "Epoch 454: training accuracy: 0.9958557486534119\n",
      "Epoch 454: test accuracy: 0.9899493455886841\n"
     ]
    },
    {
     "name": "stderr",
     "output_type": "stream",
     "text": [
      "100%|█████████████████████████████████████████████████████████████████████████████████████| 292/292 [00:05<00:00, 49.90it/s]\n",
      "100%|███████████████████████████████████████████████████████████████████████████████████████| 22/22 [00:00<00:00, 22.58it/s]\n"
     ]
    },
    {
     "name": "stdout",
     "output_type": "stream",
     "text": [
      "Epoch 455: training accuracy: 0.9958617687225342\n",
      "Epoch 455: test accuracy: 0.9899672865867615\n"
     ]
    },
    {
     "name": "stderr",
     "output_type": "stream",
     "text": [
      "100%|█████████████████████████████████████████████████████████████████████████████████████| 292/292 [00:05<00:00, 50.26it/s]\n",
      "100%|███████████████████████████████████████████████████████████████████████████████████████| 22/22 [00:00<00:00, 23.08it/s]\n"
     ]
    },
    {
     "name": "stdout",
     "output_type": "stream",
     "text": [
      "Epoch 456: training accuracy: 0.9958696365356445\n",
      "Epoch 456: test accuracy: 0.9899828433990479\n"
     ]
    },
    {
     "name": "stderr",
     "output_type": "stream",
     "text": [
      "100%|█████████████████████████████████████████████████████████████████████████████████████| 292/292 [00:05<00:00, 49.53it/s]\n",
      "100%|███████████████████████████████████████████████████████████████████████████████████████| 22/22 [00:00<00:00, 22.16it/s]\n"
     ]
    },
    {
     "name": "stdout",
     "output_type": "stream",
     "text": [
      "Epoch 457: training accuracy: 0.9958770275115967\n",
      "Epoch 457: test accuracy: 0.9900012016296387\n"
     ]
    },
    {
     "name": "stderr",
     "output_type": "stream",
     "text": [
      "100%|█████████████████████████████████████████████████████████████████████████████████████| 292/292 [00:05<00:00, 49.98it/s]\n",
      "100%|███████████████████████████████████████████████████████████████████████████████████████| 22/22 [00:00<00:00, 22.67it/s]\n"
     ]
    },
    {
     "name": "stdout",
     "output_type": "stream",
     "text": [
      "Epoch 458: training accuracy: 0.9958836436271667\n",
      "Epoch 458: test accuracy: 0.9900169372558594\n"
     ]
    },
    {
     "name": "stderr",
     "output_type": "stream",
     "text": [
      "100%|█████████████████████████████████████████████████████████████████████████████████████| 292/292 [00:05<00:00, 50.27it/s]\n",
      "100%|███████████████████████████████████████████████████████████████████████████████████████| 22/22 [00:00<00:00, 22.54it/s]\n"
     ]
    },
    {
     "name": "stdout",
     "output_type": "stream",
     "text": [
      "Epoch 459: training accuracy: 0.9958904981613159\n",
      "Epoch 459: test accuracy: 0.9900294542312622\n"
     ]
    },
    {
     "name": "stderr",
     "output_type": "stream",
     "text": [
      "100%|█████████████████████████████████████████████████████████████████████████████████████| 292/292 [00:05<00:00, 50.19it/s]\n",
      "100%|███████████████████████████████████████████████████████████████████████████████████████| 22/22 [00:00<00:00, 22.69it/s]\n"
     ]
    },
    {
     "name": "stdout",
     "output_type": "stream",
     "text": [
      "Epoch 460: training accuracy: 0.9958978295326233\n",
      "Epoch 460: test accuracy: 0.9900351762771606\n"
     ]
    },
    {
     "name": "stderr",
     "output_type": "stream",
     "text": [
      "100%|█████████████████████████████████████████████████████████████████████████████████████| 292/292 [00:05<00:00, 50.14it/s]\n",
      "100%|███████████████████████████████████████████████████████████████████████████████████████| 22/22 [00:00<00:00, 22.98it/s]\n"
     ]
    },
    {
     "name": "stdout",
     "output_type": "stream",
     "text": [
      "Epoch 461: training accuracy: 0.9959054589271545\n",
      "Epoch 461: test accuracy: 0.9900500774383545\n"
     ]
    },
    {
     "name": "stderr",
     "output_type": "stream",
     "text": [
      "100%|█████████████████████████████████████████████████████████████████████████████████████| 292/292 [00:05<00:00, 48.87it/s]\n",
      "100%|███████████████████████████████████████████████████████████████████████████████████████| 22/22 [00:00<00:00, 22.52it/s]\n"
     ]
    },
    {
     "name": "stdout",
     "output_type": "stream",
     "text": [
      "Epoch 462: training accuracy: 0.9959125518798828\n",
      "Epoch 462: test accuracy: 0.9900521039962769\n"
     ]
    },
    {
     "name": "stderr",
     "output_type": "stream",
     "text": [
      "100%|█████████████████████████████████████████████████████████████████████████████████████| 292/292 [00:05<00:00, 50.19it/s]\n",
      "100%|███████████████████████████████████████████████████████████████████████████████████████| 22/22 [00:00<00:00, 22.43it/s]\n"
     ]
    },
    {
     "name": "stdout",
     "output_type": "stream",
     "text": [
      "Epoch 463: training accuracy: 0.995919406414032\n",
      "Epoch 463: test accuracy: 0.9900597929954529\n"
     ]
    },
    {
     "name": "stderr",
     "output_type": "stream",
     "text": [
      "100%|█████████████████████████████████████████████████████████████████████████████████████| 292/292 [00:05<00:00, 50.07it/s]\n",
      "100%|███████████████████████████████████████████████████████████████████████████████████████| 22/22 [00:00<00:00, 22.57it/s]\n"
     ]
    },
    {
     "name": "stdout",
     "output_type": "stream",
     "text": [
      "Epoch 464: training accuracy: 0.9959266185760498\n",
      "Epoch 464: test accuracy: 0.9900746941566467\n"
     ]
    },
    {
     "name": "stderr",
     "output_type": "stream",
     "text": [
      "100%|█████████████████████████████████████████████████████████████████████████████████████| 292/292 [00:05<00:00, 50.25it/s]\n",
      "100%|███████████████████████████████████████████████████████████████████████████████████████| 22/22 [00:00<00:00, 22.85it/s]\n"
     ]
    },
    {
     "name": "stdout",
     "output_type": "stream",
     "text": [
      "Epoch 465: training accuracy: 0.9959336519241333\n",
      "Epoch 465: test accuracy: 0.9900944232940674\n"
     ]
    },
    {
     "name": "stderr",
     "output_type": "stream",
     "text": [
      "100%|█████████████████████████████████████████████████████████████████████████████████████| 292/292 [00:05<00:00, 50.20it/s]\n",
      "100%|███████████████████████████████████████████████████████████████████████████████████████| 22/22 [00:00<00:00, 22.37it/s]\n"
     ]
    },
    {
     "name": "stdout",
     "output_type": "stream",
     "text": [
      "Epoch 466: training accuracy: 0.9959405064582825\n",
      "Epoch 466: test accuracy: 0.9900948405265808\n"
     ]
    },
    {
     "name": "stderr",
     "output_type": "stream",
     "text": [
      "100%|█████████████████████████████████████████████████████████████████████████████████████| 292/292 [00:05<00:00, 49.25it/s]\n",
      "100%|███████████████████████████████████████████████████████████████████████████████████████| 22/22 [00:00<00:00, 22.04it/s]\n"
     ]
    },
    {
     "name": "stdout",
     "output_type": "stream",
     "text": [
      "Epoch 467: training accuracy: 0.9959464073181152\n",
      "Epoch 467: test accuracy: 0.9901059865951538\n"
     ]
    },
    {
     "name": "stderr",
     "output_type": "stream",
     "text": [
      "100%|█████████████████████████████████████████████████████████████████████████████████████| 292/292 [00:05<00:00, 49.89it/s]\n",
      "100%|███████████████████████████████████████████████████████████████████████████████████████| 22/22 [00:00<00:00, 22.55it/s]\n"
     ]
    },
    {
     "name": "stdout",
     "output_type": "stream",
     "text": [
      "Epoch 468: training accuracy: 0.9959536194801331\n",
      "Epoch 468: test accuracy: 0.9901238083839417\n"
     ]
    },
    {
     "name": "stderr",
     "output_type": "stream",
     "text": [
      "100%|█████████████████████████████████████████████████████████████████████████████████████| 292/292 [00:05<00:00, 50.00it/s]\n",
      "100%|███████████████████████████████████████████████████████████████████████████████████████| 22/22 [00:00<00:00, 22.52it/s]\n"
     ]
    },
    {
     "name": "stdout",
     "output_type": "stream",
     "text": [
      "Epoch 469: training accuracy: 0.9959606528282166\n",
      "Epoch 469: test accuracy: 0.9901309609413147\n"
     ]
    },
    {
     "name": "stderr",
     "output_type": "stream",
     "text": [
      "100%|█████████████████████████████████████████████████████████████████████████████████████| 292/292 [00:05<00:00, 50.24it/s]\n",
      "100%|███████████████████████████████████████████████████████████████████████████████████████| 22/22 [00:01<00:00, 21.89it/s]\n"
     ]
    },
    {
     "name": "stdout",
     "output_type": "stream",
     "text": [
      "Epoch 470: training accuracy: 0.9959676861763\n",
      "Epoch 470: test accuracy: 0.9901435375213623\n"
     ]
    },
    {
     "name": "stderr",
     "output_type": "stream",
     "text": [
      " 32%|███████████████████████████▍                                                          | 93/292 [00:02<00:05, 36.46it/s]\n"
     ]
    },
    {
     "ename": "KeyboardInterrupt",
     "evalue": "",
     "output_type": "error",
     "traceback": [
      "\u001b[0;31m---------------------------------------------------------------------------\u001b[0m",
      "\u001b[0;31mKeyboardInterrupt\u001b[0m                         Traceback (most recent call last)",
      "Cell \u001b[0;32mIn[40], line 7\u001b[0m\n\u001b[1;32m      3\u001b[0m \u001b[38;5;28;01mfor\u001b[39;00m epoch \u001b[38;5;129;01min\u001b[39;00m \u001b[38;5;28mrange\u001b[39m(\u001b[38;5;241m300\u001b[39m, n_epochs):\n\u001b[1;32m      5\u001b[0m     \u001b[38;5;28;01mfor\u001b[39;00m inputs, labels \u001b[38;5;129;01min\u001b[39;00m tqdm(laser_dataloader):\n\u001b[0;32m----> 7\u001b[0m         inputs \u001b[38;5;241m=\u001b[39m \u001b[43minputs\u001b[49m\u001b[38;5;241;43m.\u001b[39;49m\u001b[43mto\u001b[49m\u001b[43m(\u001b[49m\u001b[38;5;124;43m'\u001b[39;49m\u001b[38;5;124;43mcuda\u001b[39;49m\u001b[38;5;124;43m'\u001b[39;49m\u001b[43m)\u001b[49m\n\u001b[1;32m      8\u001b[0m         labels \u001b[38;5;241m=\u001b[39m labels\u001b[38;5;241m.\u001b[39mto(\u001b[38;5;124m'\u001b[39m\u001b[38;5;124mcuda\u001b[39m\u001b[38;5;124m'\u001b[39m)\n\u001b[1;32m     10\u001b[0m         y_pred \u001b[38;5;241m=\u001b[39m model(inputs)\n",
      "\u001b[0;31mKeyboardInterrupt\u001b[0m: "
     ]
    }
   ],
   "source": [
    "n_epochs = 500\n",
    "\n",
    "for epoch in range(300, n_epochs):\n",
    "\n",
    "    for inputs, labels in tqdm(laser_dataloader):\n",
    "\n",
    "        inputs = inputs.to('cuda')\n",
    "        labels = labels.to('cuda')\n",
    "        \n",
    "        y_pred = model(inputs)\n",
    "\n",
    "        metric.update(y_pred, labels)\n",
    "\n",
    "        \n",
    "        loss = loss_fn(y_pred, labels)\n",
    "        optimizer.zero_grad()\n",
    "        loss.backward()\n",
    "        optimizer.step()\n",
    "\n",
    "    \n",
    "    for test_inputs, test_labels in tqdm(test_dataloader):\n",
    "        model.eval()\n",
    "        test_inputs = test_inputs.to('cuda')\n",
    "        test_labels = test_labels.to('cuda')\n",
    "        test_pred = model(test_inputs)\n",
    "        model.train()\n",
    "        \n",
    "        test_metric.update(test_pred, test_labels)\n",
    "                \n",
    "    print(f\"Epoch {epoch}: training accuracy: {metric.compute()}\")\n",
    "    print(f\"Epoch {epoch}: test accuracy: {test_metric.compute()}\")\n",
    "\n",
    "    if ((epoch+1) % 10 == 0):\n",
    "        torch.save(model.state_dict(), f\"model_binary{epoch}.pth\")"
   ]
  },
  {
   "cell_type": "code",
   "execution_count": 15,
   "id": "5d04738d-39eb-406b-b291-66fb480a39ab",
   "metadata": {},
   "outputs": [],
   "source": [
    "# # laser_dataset = LaserDetectionDataset(data_map = data_map)\n",
    "# # laser_dataloader = DataLoader(laser_dataset, shuffle=False)\n",
    "\n",
    "# for i, (img, label) in tqdm(enumerate(laser_dataloader)):\n",
    "\n",
    "#     display = np.reshape(img.numpy().astype(np.uint8), (20,20,3))\n",
    "#     print(display.shape)\n",
    "#     # cv2.namedWindow(\"burger\")\n",
    "#     # cv2.imshow(\"burger\", display)\n",
    "#     # cv2.waitKey(0)\n",
    "#     # cv2.destroyAllWindows()\n",
    "    \n",
    "#     if i == 20:\n",
    "#         # cv2.destroyAllWindows()\n",
    "#         break"
   ]
  },
  {
   "cell_type": "code",
   "execution_count": 16,
   "id": "c654f0fe-0ed1-4fd1-903c-c80e07a451a6",
   "metadata": {},
   "outputs": [],
   "source": [
    "# for idx in tqdm(data_map):\n",
    "#     if idx <= 1965:\n",
    "#         continue\n",
    "#     file_name = data_map[idx][\"file_name\"]\n",
    "#     k,j = data_map[idx][\"image\"]\n",
    "#     label = data_map[idx][\"label\"]\n",
    "\n",
    "#     img = cv2.imread(file_name)\n",
    "#     img_clone = img.copy()\n",
    "#     cropped_img = img_clone[k:k+20, j:j+20]\n",
    "\n",
    "#     new_name = f\"{idx}.png\"\n",
    "#     save_directory = Path(\"/home/vsuresh/fishsense-lite-python-pipeline/data/train_binary\")\n",
    "\n",
    "#     save_path = save_directory / new_name\n",
    "#     # print(save_path.as_posix())\n",
    "#     cv2.imwrite(save_path.as_posix(), cropped_img)"
   ]
  },
  {
   "cell_type": "code",
   "execution_count": null,
   "id": "e8e62852-e413-4117-bfb2-a174a5bf0514",
   "metadata": {},
   "outputs": [],
   "source": [
    "# for idx in tqdm(test_data_map):\n",
    "\n",
    "#     file_name = test_data_map[idx][\"file_name\"]\n",
    "#     k,j = test_data_map[idx][\"image\"]\n",
    "#     label = test_data_map[idx][\"label\"]\n",
    "\n",
    "#     # print(\"Beginning to read image\")\n",
    "#     img = cv2.imread(file_name)\n",
    "#     # print(\"Finishing reading image\")\n",
    "#     img_clone = img.copy()\n",
    "#     cropped_img = img_clone[k:k+20, j:j+20]\n",
    "#     # output_img = np.reshape(cropped_img, (3, 20, 20))\n",
    "#     # cv2.namedWindow(\"burger\")\n",
    "#     # cv2.imshow(\"burger\", output_img)\n",
    "#     # cv2.waitKey(0)\n",
    "#     # cv2.destroyAllWindows()\n",
    "#     # output_img = np.reshape(self.data[idx,:], (3, 20, 20))\n",
    "\n",
    "#     new_name = f\"{idx}.png\"\n",
    "#     save_directory = Path(\"/home/vsuresh/fishsense-lite-python-pipeline/data/test_binary\")\n",
    "\n",
    "#     save_path = save_directory / new_name\n",
    "#     # print(save_path.as_posix())\n",
    "#     cv2.imwrite(save_path.as_posix(), cropped_img)"
   ]
  },
  {
   "cell_type": "code",
   "execution_count": 18,
   "id": "7ed8c9f1-593d-4849-96af-01f091855176",
   "metadata": {},
   "outputs": [],
   "source": [
    "# def do_work(args):\n",
    "#     file_name, (k, j), label, idx = args\n",
    "\n",
    "#     img = cv2.imread(file_name)\n",
    "#     img_clone = img.copy()\n",
    "#     cropped_img = img_clone[k:k+20, j:j+20]\n",
    "\n",
    "#     new_name = f\"{idx}.png\"\n",
    "#     save_directory = Path(\"/home/vsuresh/fishsense-lite-python-pipeline/data/train_binary\")\n",
    "\n",
    "#     save_path = save_directory / new_name\n",
    "#     # print(save_path.as_posix())\n",
    "#     cv2.imwrite(save_path.as_posix(), cropped_img)\n",
    "\n",
    "# list(tqdm(Pool(processes=cpu_count()).imap(do_work, [(data_map[idx][\"file_name\"], data_map[idx][\"image\"], data_map[idx][\"label\"], idx) for idx in data_map])))"
   ]
  },
  {
   "cell_type": "code",
   "execution_count": 17,
   "id": "3edc4df0-863d-4455-ace3-feab8b972138",
   "metadata": {},
   "outputs": [],
   "source": [
    "# def do_test(args):\n",
    "#     file_name, (k, j), label, idx = args\n",
    "\n",
    "#     img = cv2.imread(file_name)\n",
    "#     img_clone = img.copy()\n",
    "#     cropped_img = img_clone[k:k+20, j:j+20]\n",
    "\n",
    "#     new_name = f\"{idx}.png\"\n",
    "#     save_directory = Path(\"/home/vsuresh/fishsense-lite-python-pipeline/data/test_binary\")\n",
    "\n",
    "#     save_path = save_directory / new_name\n",
    "#     # print(save_path.as_posix())\n",
    "#     cv2.imwrite(save_path.as_posix(), cropped_img)\n",
    "\n",
    "# list(tqdm(Pool(processes=cpu_count()).imap(do_test, [(test_data_map[idx][\"file_name\"], test_data_map[idx][\"image\"], test_data_map[idx][\"label\"], idx) for idx in test_data_map])))"
   ]
  },
  {
   "cell_type": "code",
   "execution_count": 8,
   "id": "894cdd63-7851-4a08-b023-349b9a625994",
   "metadata": {},
   "outputs": [
    {
     "name": "stdout",
     "output_type": "stream",
     "text": [
      "73350\n"
     ]
    }
   ],
   "source": [
    "print(len(data_map))"
   ]
  },
  {
   "cell_type": "code",
   "execution_count": null,
   "id": "b7925be5-4cbe-4107-95c6-8d4a3428b544",
   "metadata": {},
   "outputs": [],
   "source": []
  }
 ],
 "metadata": {
  "kernelspec": {
   "display_name": "Python 3 (ipykernel)",
   "language": "python",
   "name": "python3"
  },
  "language_info": {
   "codemirror_mode": {
    "name": "ipython",
    "version": 3
   },
   "file_extension": ".py",
   "mimetype": "text/x-python",
   "name": "python",
   "nbconvert_exporter": "python",
   "pygments_lexer": "ipython3",
   "version": "3.8.10"
  }
 },
 "nbformat": 4,
 "nbformat_minor": 5
}
