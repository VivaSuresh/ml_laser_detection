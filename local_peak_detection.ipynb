{
 "cells": [
  {
   "cell_type": "code",
   "execution_count": 1,
   "id": "2980ee52-170a-4179-80ae-9eab3c0276b2",
   "metadata": {},
   "outputs": [],
   "source": [
    "import torch \n",
    "import torchvision\n",
    "import torch.nn as nn\n",
    "import torch.nn.functional as F\n",
    "import torch.optim as optim\n",
    "from torch.utils.data import Dataset, DataLoader\n",
    "\n",
    "from pathlib import Path\n",
    "import csv\n",
    "import numpy as np\n",
    "import cv2\n",
    "from tqdm import tqdm\n",
    "\n",
    "from detect_laser import *\n",
    "from torchinfo import summary\n",
    "from torchmetrics.classification import BinaryAccuracy\n",
    "\n",
    "import matplotlib.pyplot as plt\n",
    "from multiprocessing import Pool, cpu_count\n",
    "from skimage.feature import peak_local_max"
   ]
  },
  {
   "cell_type": "code",
   "execution_count": 2,
   "id": "1be3ec9c-fe06-433b-ac14-00f126e0609c",
   "metadata": {},
   "outputs": [],
   "source": [
    "# Prepare data \n",
    "\n",
    "data_path = Path(\"./data\")\n",
    "csv_list = list(data_path.glob(\"*.csv\"))\n",
    "file_map = dict()\n",
    "test_map = dict()\n",
    "i = 0\n",
    "l = 0\n",
    "for csv_file in csv_list:   \n",
    "    with open(csv_file, newline='') as csvfile:\n",
    "\n",
    "        reader = csv.reader(csvfile, delimiter=',')\n",
    "\n",
    "        header = next(reader)\n",
    "\n",
    "        # First 2 of every file will be for testing\n",
    "        for k in range(2):\n",
    "            row = next(reader)\n",
    "            if len(row) > 0:\n",
    "                test_map[l] = dict()\n",
    "                test_map[l][\"name\"] = row[0]\n",
    "                \n",
    "                for j in range(1, 3):\n",
    "                    test_map[l][header[j]] = row[j]\n",
    "\n",
    "                l+=1\n",
    "        \n",
    "        for row in reader:\n",
    "        \n",
    "            if len(row) > 0:\n",
    "                file_map[i] = dict()\n",
    "                file_map[i][\"name\"] = row[0]\n",
    "                \n",
    "                for j in range(1, 3):\n",
    "                    file_map[i][header[j]] = row[j]\n",
    "\n",
    "                i+=1"
   ]
  },
  {
   "cell_type": "code",
   "execution_count": 3,
   "id": "3629b7da-d5ca-4111-b613-6441a94db3e2",
   "metadata": {},
   "outputs": [
    {
     "name": "stdout",
     "output_type": "stream",
     "text": [
      "392\n",
      "38\n"
     ]
    }
   ],
   "source": [
    "print(len(file_map))\n",
    "print(len(test_map))"
   ]
  },
  {
   "cell_type": "code",
   "execution_count": 18,
   "id": "fd8ec299-235c-4dca-ba2a-905e3d82c718",
   "metadata": {},
   "outputs": [
    {
     "name": "stderr",
     "output_type": "stream",
     "text": [
      "  0%|                                                                                                                                      | 0/392 [00:03<?, ?it/s]"
     ]
    },
    {
     "name": "stdout",
     "output_type": "stream",
     "text": [
      "data/FSL-01D Box-rectified/P7130212.JPG:  (5950, 2)\n",
      "(11900,)\n"
     ]
    },
    {
     "name": "stderr",
     "output_type": "stream",
     "text": [
      "\n"
     ]
    }
   ],
   "source": [
    "# Get the top 1500 peaks in each image\n",
    "\n",
    "for i in tqdm(file_map):\n",
    "    \n",
    "    img = cv2.imread(file_map[i][\"name\"])\n",
    "    coordinates = peak_local_max(img[:,:,2], min_distance=20)\n",
    "    print(f\"{file_map[i]['name']}: \", coordinates.shape)\n",
    "    laser_np = [int(file_map[i][\"laser.x\"]), int(file_map[i][\"laser.y\"])]\n",
    "    laser_big = np.array(coordinates.shape[0]*laser_np)\n",
    "    print(laser_big.shape)\n",
    "    break\n",
    "    plt.imshow(cv2.cvtColor(img, cv2.COLOR_RGB2BGR), cmap=\"gray\")\n",
    "    plt.plot(coordinates[:, 1], coordinates[:, 0], 'r.')\n",
    "    plt.show()\n",
    "\n",
    "    break"
   ]
  },
  {
   "cell_type": "code",
   "execution_count": null,
   "id": "9dbb651a-52ca-4527-809d-e3923af6f1d1",
   "metadata": {},
   "outputs": [],
   "source": []
  }
 ],
 "metadata": {
  "kernelspec": {
   "display_name": "Python 3 (ipykernel)",
   "language": "python",
   "name": "python3"
  },
  "language_info": {
   "codemirror_mode": {
    "name": "ipython",
    "version": 3
   },
   "file_extension": ".py",
   "mimetype": "text/x-python",
   "name": "python",
   "nbconvert_exporter": "python",
   "pygments_lexer": "ipython3",
   "version": "3.8.10"
  }
 },
 "nbformat": 4,
 "nbformat_minor": 5
}
